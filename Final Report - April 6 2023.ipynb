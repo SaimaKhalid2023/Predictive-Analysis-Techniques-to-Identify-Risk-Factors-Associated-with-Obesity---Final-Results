{
 "cells": [
  {
   "cell_type": "markdown",
   "id": "1331d73a",
   "metadata": {},
   "source": [
    "# CIND820: Big Data Analytics Project\n",
    "## Predictive Analysis Techniques to Identify Risk Factors Associated with Obesity\n",
    "\n",
    "###  Final Results"
   ]
  },
  {
   "cell_type": "markdown",
   "id": "1ea9b5b2",
   "metadata": {},
   "source": [
    "To conduct predictive analysis in this study, I employed the following steps:\n",
    "\n",
    "Step 1: Import libraries "
   ]
  },
  {
   "cell_type": "markdown",
   "id": "a7557412",
   "metadata": {},
   "source": [
    "I imported the necessary required libraries such as Pandas, Numpy, Matplotlib, Scikit-learn, and any other necessary libraries."
   ]
  },
  {
   "cell_type": "code",
   "execution_count": 3,
   "id": "e86a5d49",
   "metadata": {
    "scrolled": true
   },
   "outputs": [
    {
     "name": "stdout",
     "output_type": "stream",
     "text": [
      "Requirement already satisfied: xgboost in c:\\users\\hp\\anaconda3\\lib\\site-packages (1.7.4)\n",
      "Requirement already satisfied: numpy in c:\\users\\hp\\anaconda3\\lib\\site-packages (from xgboost) (1.20.3)\n",
      "Requirement already satisfied: scipy in c:\\users\\hp\\anaconda3\\lib\\site-packages (from xgboost) (1.7.1)\n",
      "Requirement already satisfied: scikit-learn in c:\\users\\hp\\anaconda3\\lib\\site-packages (1.2.2)\n",
      "Requirement already satisfied: numpy>=1.17.3 in c:\\users\\hp\\anaconda3\\lib\\site-packages (from scikit-learn) (1.20.3)\n",
      "Requirement already satisfied: scipy>=1.3.2 in c:\\users\\hp\\anaconda3\\lib\\site-packages (from scikit-learn) (1.7.1)\n",
      "Requirement already satisfied: joblib>=1.1.1 in c:\\users\\hp\\anaconda3\\lib\\site-packages (from scikit-learn) (1.2.0)\n",
      "Requirement already satisfied: threadpoolctl>=2.0.0 in c:\\users\\hp\\anaconda3\\lib\\site-packages (from scikit-learn) (2.2.0)\n",
      "Requirement already satisfied: matplotlib in c:\\users\\hp\\anaconda3\\lib\\site-packages (3.4.3)\n",
      "Requirement already satisfied: pyparsing>=2.2.1 in c:\\users\\hp\\anaconda3\\lib\\site-packages (from matplotlib) (3.0.4)\n",
      "Requirement already satisfied: kiwisolver>=1.0.1 in c:\\users\\hp\\anaconda3\\lib\\site-packages (from matplotlib) (1.3.1)\n",
      "Requirement already satisfied: pillow>=6.2.0 in c:\\users\\hp\\anaconda3\\lib\\site-packages (from matplotlib) (8.4.0)\n",
      "Requirement already satisfied: python-dateutil>=2.7 in c:\\users\\hp\\anaconda3\\lib\\site-packages (from matplotlib) (2.8.2)\n",
      "Requirement already satisfied: cycler>=0.10 in c:\\users\\hp\\anaconda3\\lib\\site-packages (from matplotlib) (0.10.0)\n",
      "Requirement already satisfied: numpy>=1.16 in c:\\users\\hp\\anaconda3\\lib\\site-packages (from matplotlib) (1.20.3)\n",
      "Requirement already satisfied: six in c:\\users\\hp\\anaconda3\\lib\\site-packages (from cycler>=0.10->matplotlib) (1.16.0)\n"
     ]
    }
   ],
   "source": [
    "import pandas as pd\n",
    "import numpy as np\n",
    "import seaborn as sns\n",
    "import matplotlib.pyplot as plt\n",
    "\n",
    "from sklearn.preprocessing import LabelEncoder\n",
    "from sklearn.model_selection import train_test_split\n",
    "\n",
    "from sklearn import metrics\n",
    "from sklearn.metrics import accuracy_score\n",
    "from sklearn.model_selection import KFold, cross_val_score\n",
    "\n",
    "from yellowbrick.features import FeatureImportances\n",
    "from sklearn.feature_selection import SelectKBest, f_classif\n",
    "\n",
    "from sklearn.metrics import confusion_matrix, ConfusionMatrixDisplay\n",
    "from sklearn.datasets import make_classification\n",
    "\n",
    "#installing dependencies\n",
    "!pip install xgboost\n",
    "!pip install --upgrade scikit-learn\n",
    "!pip install matplotlib\n",
    "\n",
    "\n",
    "# Creating a instance of label Encoder.\n",
    "le = LabelEncoder()\n",
    "\n",
    "import warnings\n",
    "warnings.filterwarnings(\"ignore\")"
   ]
  },
  {
   "cell_type": "markdown",
   "id": "c4ed69c3",
   "metadata": {},
   "source": [
    "Step 2: Preprocessing: \n"
   ]
  },
  {
   "cell_type": "markdown",
   "id": "0a795a21",
   "metadata": {},
   "source": [
    "I loaded the data into Jupyter Notebook using the Pandas library, preprocessed including cleaning the data, handling missing values, transforming variables, and normalization. The details are mentioned below:"
   ]
  },
  {
   "cell_type": "markdown",
   "id": "a14e2338",
   "metadata": {},
   "source": [
    "1. Load the data"
   ]
  },
  {
   "cell_type": "code",
   "execution_count": 4,
   "id": "9910ff99",
   "metadata": {
    "scrolled": true
   },
   "outputs": [
    {
     "data": {
      "text/html": [
       "<div>\n",
       "<style scoped>\n",
       "    .dataframe tbody tr th:only-of-type {\n",
       "        vertical-align: middle;\n",
       "    }\n",
       "\n",
       "    .dataframe tbody tr th {\n",
       "        vertical-align: top;\n",
       "    }\n",
       "\n",
       "    .dataframe thead th {\n",
       "        text-align: right;\n",
       "    }\n",
       "</style>\n",
       "<table border=\"1\" class=\"dataframe\">\n",
       "  <thead>\n",
       "    <tr style=\"text-align: right;\">\n",
       "      <th></th>\n",
       "      <th>Gender</th>\n",
       "      <th>Age</th>\n",
       "      <th>Height</th>\n",
       "      <th>Weight</th>\n",
       "      <th>family_history</th>\n",
       "      <th>FAVC</th>\n",
       "      <th>FCVC</th>\n",
       "      <th>NCP</th>\n",
       "      <th>CAEC</th>\n",
       "      <th>SMOKE</th>\n",
       "      <th>CH2O</th>\n",
       "      <th>SCC</th>\n",
       "      <th>FAF</th>\n",
       "      <th>TUE</th>\n",
       "      <th>CALC</th>\n",
       "      <th>MTRANS</th>\n",
       "      <th>NObeyesdad</th>\n",
       "    </tr>\n",
       "  </thead>\n",
       "  <tbody>\n",
       "    <tr>\n",
       "      <th>0</th>\n",
       "      <td>Female</td>\n",
       "      <td>21.0</td>\n",
       "      <td>1.62</td>\n",
       "      <td>64.0</td>\n",
       "      <td>yes</td>\n",
       "      <td>no</td>\n",
       "      <td>2.0</td>\n",
       "      <td>3.0</td>\n",
       "      <td>Sometimes</td>\n",
       "      <td>no</td>\n",
       "      <td>2.0</td>\n",
       "      <td>no</td>\n",
       "      <td>0.0</td>\n",
       "      <td>1.0</td>\n",
       "      <td>no</td>\n",
       "      <td>Public_Transportation</td>\n",
       "      <td>Normal_Weight</td>\n",
       "    </tr>\n",
       "    <tr>\n",
       "      <th>1</th>\n",
       "      <td>Female</td>\n",
       "      <td>21.0</td>\n",
       "      <td>1.52</td>\n",
       "      <td>56.0</td>\n",
       "      <td>yes</td>\n",
       "      <td>no</td>\n",
       "      <td>3.0</td>\n",
       "      <td>3.0</td>\n",
       "      <td>Sometimes</td>\n",
       "      <td>yes</td>\n",
       "      <td>3.0</td>\n",
       "      <td>yes</td>\n",
       "      <td>3.0</td>\n",
       "      <td>0.0</td>\n",
       "      <td>Sometimes</td>\n",
       "      <td>Public_Transportation</td>\n",
       "      <td>Normal_Weight</td>\n",
       "    </tr>\n",
       "    <tr>\n",
       "      <th>2</th>\n",
       "      <td>Male</td>\n",
       "      <td>23.0</td>\n",
       "      <td>1.80</td>\n",
       "      <td>77.0</td>\n",
       "      <td>yes</td>\n",
       "      <td>no</td>\n",
       "      <td>2.0</td>\n",
       "      <td>3.0</td>\n",
       "      <td>Sometimes</td>\n",
       "      <td>no</td>\n",
       "      <td>2.0</td>\n",
       "      <td>no</td>\n",
       "      <td>2.0</td>\n",
       "      <td>1.0</td>\n",
       "      <td>Frequently</td>\n",
       "      <td>Public_Transportation</td>\n",
       "      <td>Normal_Weight</td>\n",
       "    </tr>\n",
       "    <tr>\n",
       "      <th>3</th>\n",
       "      <td>Male</td>\n",
       "      <td>27.0</td>\n",
       "      <td>1.80</td>\n",
       "      <td>87.0</td>\n",
       "      <td>no</td>\n",
       "      <td>no</td>\n",
       "      <td>3.0</td>\n",
       "      <td>3.0</td>\n",
       "      <td>Sometimes</td>\n",
       "      <td>no</td>\n",
       "      <td>2.0</td>\n",
       "      <td>no</td>\n",
       "      <td>2.0</td>\n",
       "      <td>0.0</td>\n",
       "      <td>Frequently</td>\n",
       "      <td>Walking</td>\n",
       "      <td>Overweight_Level_I</td>\n",
       "    </tr>\n",
       "    <tr>\n",
       "      <th>4</th>\n",
       "      <td>Male</td>\n",
       "      <td>22.0</td>\n",
       "      <td>1.78</td>\n",
       "      <td>89.8</td>\n",
       "      <td>no</td>\n",
       "      <td>no</td>\n",
       "      <td>2.0</td>\n",
       "      <td>1.0</td>\n",
       "      <td>Sometimes</td>\n",
       "      <td>no</td>\n",
       "      <td>2.0</td>\n",
       "      <td>no</td>\n",
       "      <td>0.0</td>\n",
       "      <td>0.0</td>\n",
       "      <td>Sometimes</td>\n",
       "      <td>Public_Transportation</td>\n",
       "      <td>Overweight_Level_II</td>\n",
       "    </tr>\n",
       "  </tbody>\n",
       "</table>\n",
       "</div>"
      ],
      "text/plain": [
       "   Gender   Age  Height  Weight family_history FAVC  FCVC  NCP       CAEC  \\\n",
       "0  Female  21.0    1.62    64.0            yes   no   2.0  3.0  Sometimes   \n",
       "1  Female  21.0    1.52    56.0            yes   no   3.0  3.0  Sometimes   \n",
       "2    Male  23.0    1.80    77.0            yes   no   2.0  3.0  Sometimes   \n",
       "3    Male  27.0    1.80    87.0             no   no   3.0  3.0  Sometimes   \n",
       "4    Male  22.0    1.78    89.8             no   no   2.0  1.0  Sometimes   \n",
       "\n",
       "  SMOKE  CH2O  SCC  FAF  TUE        CALC                 MTRANS  \\\n",
       "0    no   2.0   no  0.0  1.0          no  Public_Transportation   \n",
       "1   yes   3.0  yes  3.0  0.0   Sometimes  Public_Transportation   \n",
       "2    no   2.0   no  2.0  1.0  Frequently  Public_Transportation   \n",
       "3    no   2.0   no  2.0  0.0  Frequently                Walking   \n",
       "4    no   2.0   no  0.0  0.0   Sometimes  Public_Transportation   \n",
       "\n",
       "            NObeyesdad  \n",
       "0        Normal_Weight  \n",
       "1        Normal_Weight  \n",
       "2        Normal_Weight  \n",
       "3   Overweight_Level_I  \n",
       "4  Overweight_Level_II  "
      ]
     },
     "execution_count": 4,
     "metadata": {},
     "output_type": "execute_result"
    }
   ],
   "source": [
    "df=pd.read_csv(\"ObesityDataSet_raw_and_data_sinthetic.csv\")\n",
    "\n",
    "#View the data\n",
    "df.head()"
   ]
  },
  {
   "cell_type": "markdown",
   "id": "14bad063",
   "metadata": {},
   "source": [
    "2. Check if there are any missing values"
   ]
  },
  {
   "cell_type": "code",
   "execution_count": 5,
   "id": "2af212e4",
   "metadata": {
    "scrolled": true
   },
   "outputs": [
    {
     "data": {
      "text/plain": [
       "<AxesSubplot:>"
      ]
     },
     "execution_count": 5,
     "metadata": {},
     "output_type": "execute_result"
    },
    {
     "data": {
      "image/png": "[encoded data removed]",
      "text/plain": [
       "<Figure size 576x396 with 1 Axes>"
      ]
     },
     "metadata": {},
     "output_type": "display_data"
    }
   ],
   "source": [
    "df.shape\n",
    "sns.heatmap(df.isnull(), cbar=False, yticklabels=False, cmap='plasma')"
   ]
  },
  {
   "cell_type": "markdown",
   "id": "a73ffaea",
   "metadata": {},
   "source": [
    "The shape function and heatmapp informed that the data does not have any missing value."
   ]
  },
  {
   "cell_type": "markdown",
   "id": "d402525f",
   "metadata": {},
   "source": [
    "3. Check the duplicate rows"
   ]
  },
  {
   "cell_type": "code",
   "execution_count": 6,
   "id": "5d3752fa",
   "metadata": {},
   "outputs": [
    {
     "name": "stdout",
     "output_type": "stream",
     "text": [
      "(24, 17)\n"
     ]
    }
   ],
   "source": [
    "dup_df = df[df.duplicated()]\n",
    "print(dup_df.shape)"
   ]
  },
  {
   "cell_type": "markdown",
   "id": "c4a4be6c",
   "metadata": {},
   "source": [
    "This shows there are 24 rows of duplicate data. Hence this needs to be removed."
   ]
  },
  {
   "cell_type": "code",
   "execution_count": 7,
   "id": "7b937f64",
   "metadata": {},
   "outputs": [],
   "source": [
    "# Remove duplicates \n",
    "data = df.drop_duplicates()"
   ]
  },
  {
   "cell_type": "markdown",
   "id": "1543fa4e",
   "metadata": {},
   "source": [
    "4. Check categorical variables"
   ]
  },
  {
   "cell_type": "code",
   "execution_count": 8,
   "id": "a91f2bc1",
   "metadata": {},
   "outputs": [
    {
     "name": "stdout",
     "output_type": "stream",
     "text": [
      "Gender\n",
      "['Female' 'Male']\n",
      "\n",
      "\n",
      "family_history\n",
      "['yes' 'no']\n",
      "\n",
      "\n",
      "FAVC\n",
      "['no' 'yes']\n",
      "\n",
      "\n",
      "CAEC\n",
      "['Sometimes' 'Frequently' 'Always' 'no']\n",
      "\n",
      "\n",
      "SMOKE\n",
      "['no' 'yes']\n",
      "\n",
      "\n",
      "SCC\n",
      "['no' 'yes']\n",
      "\n",
      "\n",
      "CALC\n",
      "['no' 'Sometimes' 'Frequently' 'Always']\n",
      "\n",
      "\n",
      "MTRANS\n",
      "['Public_Transportation' 'Walking' 'Automobile' 'Motorbike' 'Bike']\n",
      "\n",
      "\n",
      "NObeyesdad\n",
      "['Normal_Weight' 'Overweight_Level_I' 'Overweight_Level_II'\n",
      " 'Obesity_Type_I' 'Insufficient_Weight' 'Obesity_Type_II'\n",
      " 'Obesity_Type_III']\n",
      "\n",
      "\n"
     ]
    }
   ],
   "source": [
    "# Checking unique values of categorical variables\n",
    "cat_col = ['Gender', 'family_history', 'FAVC', 'CAEC', 'SMOKE', 'SCC', 'CALC', 'MTRANS', 'NObeyesdad']\n",
    "\n",
    "for cat in cat_col:\n",
    "    print(cat)\n",
    "    print(data[cat].unique())\n",
    "    print(\"\\n\")"
   ]
  },
  {
   "cell_type": "code",
   "execution_count": 9,
   "id": "0747241a",
   "metadata": {},
   "outputs": [],
   "source": [
    "# Convert categorical data into numerical data. \n",
    "\n",
    "le_Gender = LabelEncoder()\n",
    "le_family_history = LabelEncoder()\n",
    "le_FAVC = LabelEncoder()\n",
    "le_CAEC = LabelEncoder()\n",
    "le_SMOKE = LabelEncoder()\n",
    "le_SCC = LabelEncoder()\n",
    "le_CALC = LabelEncoder()\n",
    "le_MTRANS = LabelEncoder()\n",
    "le_NObeyesdad = LabelEncoder()"
   ]
  },
  {
   "cell_type": "code",
   "execution_count": 10,
   "id": "23fb29ab",
   "metadata": {
    "scrolled": true
   },
   "outputs": [
    {
     "data": {
      "text/html": [
       "<div>\n",
       "<style scoped>\n",
       "    .dataframe tbody tr th:only-of-type {\n",
       "        vertical-align: middle;\n",
       "    }\n",
       "\n",
       "    .dataframe tbody tr th {\n",
       "        vertical-align: top;\n",
       "    }\n",
       "\n",
       "    .dataframe thead th {\n",
       "        text-align: right;\n",
       "    }\n",
       "</style>\n",
       "<table border=\"1\" class=\"dataframe\">\n",
       "  <thead>\n",
       "    <tr style=\"text-align: right;\">\n",
       "      <th></th>\n",
       "      <th>Gender</th>\n",
       "      <th>Age</th>\n",
       "      <th>Height</th>\n",
       "      <th>Weight</th>\n",
       "      <th>family_history</th>\n",
       "      <th>FAVC</th>\n",
       "      <th>FCVC</th>\n",
       "      <th>NCP</th>\n",
       "      <th>CAEC</th>\n",
       "      <th>SMOKE</th>\n",
       "      <th>...</th>\n",
       "      <th>NObeyesdad</th>\n",
       "      <th>Gender_n</th>\n",
       "      <th>family_history_n</th>\n",
       "      <th>FAVC_n</th>\n",
       "      <th>CAEC_n</th>\n",
       "      <th>SMOKE_n</th>\n",
       "      <th>SCC_n</th>\n",
       "      <th>CALC_n</th>\n",
       "      <th>MTRANS_n</th>\n",
       "      <th>NObeyesdad_n</th>\n",
       "    </tr>\n",
       "  </thead>\n",
       "  <tbody>\n",
       "    <tr>\n",
       "      <th>0</th>\n",
       "      <td>Female</td>\n",
       "      <td>21.0</td>\n",
       "      <td>1.62</td>\n",
       "      <td>64.0</td>\n",
       "      <td>yes</td>\n",
       "      <td>no</td>\n",
       "      <td>2.0</td>\n",
       "      <td>3.0</td>\n",
       "      <td>Sometimes</td>\n",
       "      <td>no</td>\n",
       "      <td>...</td>\n",
       "      <td>Normal_Weight</td>\n",
       "      <td>0</td>\n",
       "      <td>1</td>\n",
       "      <td>0</td>\n",
       "      <td>2</td>\n",
       "      <td>0</td>\n",
       "      <td>0</td>\n",
       "      <td>3</td>\n",
       "      <td>3</td>\n",
       "      <td>1</td>\n",
       "    </tr>\n",
       "    <tr>\n",
       "      <th>1</th>\n",
       "      <td>Female</td>\n",
       "      <td>21.0</td>\n",
       "      <td>1.52</td>\n",
       "      <td>56.0</td>\n",
       "      <td>yes</td>\n",
       "      <td>no</td>\n",
       "      <td>3.0</td>\n",
       "      <td>3.0</td>\n",
       "      <td>Sometimes</td>\n",
       "      <td>yes</td>\n",
       "      <td>...</td>\n",
       "      <td>Normal_Weight</td>\n",
       "      <td>0</td>\n",
       "      <td>1</td>\n",
       "      <td>0</td>\n",
       "      <td>2</td>\n",
       "      <td>1</td>\n",
       "      <td>1</td>\n",
       "      <td>2</td>\n",
       "      <td>3</td>\n",
       "      <td>1</td>\n",
       "    </tr>\n",
       "    <tr>\n",
       "      <th>2</th>\n",
       "      <td>Male</td>\n",
       "      <td>23.0</td>\n",
       "      <td>1.80</td>\n",
       "      <td>77.0</td>\n",
       "      <td>yes</td>\n",
       "      <td>no</td>\n",
       "      <td>2.0</td>\n",
       "      <td>3.0</td>\n",
       "      <td>Sometimes</td>\n",
       "      <td>no</td>\n",
       "      <td>...</td>\n",
       "      <td>Normal_Weight</td>\n",
       "      <td>1</td>\n",
       "      <td>1</td>\n",
       "      <td>0</td>\n",
       "      <td>2</td>\n",
       "      <td>0</td>\n",
       "      <td>0</td>\n",
       "      <td>1</td>\n",
       "      <td>3</td>\n",
       "      <td>1</td>\n",
       "    </tr>\n",
       "    <tr>\n",
       "      <th>3</th>\n",
       "      <td>Male</td>\n",
       "      <td>27.0</td>\n",
       "      <td>1.80</td>\n",
       "      <td>87.0</td>\n",
       "      <td>no</td>\n",
       "      <td>no</td>\n",
       "      <td>3.0</td>\n",
       "      <td>3.0</td>\n",
       "      <td>Sometimes</td>\n",
       "      <td>no</td>\n",
       "      <td>...</td>\n",
       "      <td>Overweight_Level_I</td>\n",
       "      <td>1</td>\n",
       "      <td>0</td>\n",
       "      <td>0</td>\n",
       "      <td>2</td>\n",
       "      <td>0</td>\n",
       "      <td>0</td>\n",
       "      <td>1</td>\n",
       "      <td>4</td>\n",
       "      <td>5</td>\n",
       "    </tr>\n",
       "    <tr>\n",
       "      <th>4</th>\n",
       "      <td>Male</td>\n",
       "      <td>22.0</td>\n",
       "      <td>1.78</td>\n",
       "      <td>89.8</td>\n",
       "      <td>no</td>\n",
       "      <td>no</td>\n",
       "      <td>2.0</td>\n",
       "      <td>1.0</td>\n",
       "      <td>Sometimes</td>\n",
       "      <td>no</td>\n",
       "      <td>...</td>\n",
       "      <td>Overweight_Level_II</td>\n",
       "      <td>1</td>\n",
       "      <td>0</td>\n",
       "      <td>0</td>\n",
       "      <td>2</td>\n",
       "      <td>0</td>\n",
       "      <td>0</td>\n",
       "      <td>2</td>\n",
       "      <td>3</td>\n",
       "      <td>6</td>\n",
       "    </tr>\n",
       "  </tbody>\n",
       "</table>\n",
       "<p>5 rows × 26 columns</p>\n",
       "</div>"
      ],
      "text/plain": [
       "   Gender   Age  Height  Weight family_history FAVC  FCVC  NCP       CAEC  \\\n",
       "0  Female  21.0    1.62    64.0            yes   no   2.0  3.0  Sometimes   \n",
       "1  Female  21.0    1.52    56.0            yes   no   3.0  3.0  Sometimes   \n",
       "2    Male  23.0    1.80    77.0            yes   no   2.0  3.0  Sometimes   \n",
       "3    Male  27.0    1.80    87.0             no   no   3.0  3.0  Sometimes   \n",
       "4    Male  22.0    1.78    89.8             no   no   2.0  1.0  Sometimes   \n",
       "\n",
       "  SMOKE  ...           NObeyesdad Gender_n  family_history_n  FAVC_n CAEC_n  \\\n",
       "0    no  ...        Normal_Weight        0                 1       0      2   \n",
       "1   yes  ...        Normal_Weight        0                 1       0      2   \n",
       "2    no  ...        Normal_Weight        1                 1       0      2   \n",
       "3    no  ...   Overweight_Level_I        1                 0       0      2   \n",
       "4    no  ...  Overweight_Level_II        1                 0       0      2   \n",
       "\n",
       "  SMOKE_n SCC_n  CALC_n  MTRANS_n  NObeyesdad_n  \n",
       "0       0     0       3         3             1  \n",
       "1       1     1       2         3             1  \n",
       "2       0     0       1         3             1  \n",
       "3       0     0       1         4             5  \n",
       "4       0     0       2         3             6  \n",
       "\n",
       "[5 rows x 26 columns]"
      ]
     },
     "execution_count": 10,
     "metadata": {},
     "output_type": "execute_result"
    }
   ],
   "source": [
    "# Add new columns into df dataframe by using fit and trnansform method.\n",
    "\n",
    "df['Gender_n'] = le_Gender.fit_transform(df['Gender'])\n",
    "df['family_history_n'] = le_Gender.fit_transform(df['family_history'])\n",
    "df['FAVC_n'] = le_Gender.fit_transform(df['FAVC'])\n",
    "df['CAEC_n'] = le_Gender.fit_transform(df['CAEC'])\n",
    "df['SMOKE_n'] = le_Gender.fit_transform(df['SMOKE'])\n",
    "df['SCC_n'] = le_Gender.fit_transform(df['SCC'])\n",
    "df['CALC_n'] = le_Gender.fit_transform(df['CALC'])\n",
    "df['MTRANS_n'] = le_Gender.fit_transform(df['MTRANS'])\n",
    "df['NObeyesdad_n'] = le_Gender.fit_transform(df['NObeyesdad'])\n",
    "df.head()\n",
    "\n",
    "# It will give additional columns with numerical values. "
   ]
  },
  {
   "cell_type": "code",
   "execution_count": 11,
   "id": "be57b3ad",
   "metadata": {},
   "outputs": [],
   "source": [
    "# Create new dataframe by drop columns with text and keep numerical data \n"
   ]
  },
  {
   "cell_type": "code",
   "execution_count": 12,
   "id": "6f12f474",
   "metadata": {},
   "outputs": [
    {
     "data": {
      "text/html": [
       "<div>\n",
       "<style scoped>\n",
       "    .dataframe tbody tr th:only-of-type {\n",
       "        vertical-align: middle;\n",
       "    }\n",
       "\n",
       "    .dataframe tbody tr th {\n",
       "        vertical-align: top;\n",
       "    }\n",
       "\n",
       "    .dataframe thead th {\n",
       "        text-align: right;\n",
       "    }\n",
       "</style>\n",
       "<table border=\"1\" class=\"dataframe\">\n",
       "  <thead>\n",
       "    <tr style=\"text-align: right;\">\n",
       "      <th></th>\n",
       "      <th>Age</th>\n",
       "      <th>Height</th>\n",
       "      <th>Weight</th>\n",
       "      <th>FCVC</th>\n",
       "      <th>NCP</th>\n",
       "      <th>CH2O</th>\n",
       "      <th>FAF</th>\n",
       "      <th>TUE</th>\n",
       "      <th>Gender_n</th>\n",
       "      <th>family_history_n</th>\n",
       "      <th>FAVC_n</th>\n",
       "      <th>CAEC_n</th>\n",
       "      <th>SMOKE_n</th>\n",
       "      <th>SCC_n</th>\n",
       "      <th>CALC_n</th>\n",
       "      <th>MTRANS_n</th>\n",
       "      <th>NObeyesdad_n</th>\n",
       "    </tr>\n",
       "  </thead>\n",
       "  <tbody>\n",
       "    <tr>\n",
       "      <th>0</th>\n",
       "      <td>21.000000</td>\n",
       "      <td>1.620000</td>\n",
       "      <td>64.000000</td>\n",
       "      <td>2.0</td>\n",
       "      <td>3.0</td>\n",
       "      <td>2.000000</td>\n",
       "      <td>0.000000</td>\n",
       "      <td>1.000000</td>\n",
       "      <td>0</td>\n",
       "      <td>1</td>\n",
       "      <td>0</td>\n",
       "      <td>2</td>\n",
       "      <td>0</td>\n",
       "      <td>0</td>\n",
       "      <td>3</td>\n",
       "      <td>3</td>\n",
       "      <td>1</td>\n",
       "    </tr>\n",
       "    <tr>\n",
       "      <th>1</th>\n",
       "      <td>21.000000</td>\n",
       "      <td>1.520000</td>\n",
       "      <td>56.000000</td>\n",
       "      <td>3.0</td>\n",
       "      <td>3.0</td>\n",
       "      <td>3.000000</td>\n",
       "      <td>3.000000</td>\n",
       "      <td>0.000000</td>\n",
       "      <td>0</td>\n",
       "      <td>1</td>\n",
       "      <td>0</td>\n",
       "      <td>2</td>\n",
       "      <td>1</td>\n",
       "      <td>1</td>\n",
       "      <td>2</td>\n",
       "      <td>3</td>\n",
       "      <td>1</td>\n",
       "    </tr>\n",
       "    <tr>\n",
       "      <th>2</th>\n",
       "      <td>23.000000</td>\n",
       "      <td>1.800000</td>\n",
       "      <td>77.000000</td>\n",
       "      <td>2.0</td>\n",
       "      <td>3.0</td>\n",
       "      <td>2.000000</td>\n",
       "      <td>2.000000</td>\n",
       "      <td>1.000000</td>\n",
       "      <td>1</td>\n",
       "      <td>1</td>\n",
       "      <td>0</td>\n",
       "      <td>2</td>\n",
       "      <td>0</td>\n",
       "      <td>0</td>\n",
       "      <td>1</td>\n",
       "      <td>3</td>\n",
       "      <td>1</td>\n",
       "    </tr>\n",
       "    <tr>\n",
       "      <th>3</th>\n",
       "      <td>27.000000</td>\n",
       "      <td>1.800000</td>\n",
       "      <td>87.000000</td>\n",
       "      <td>3.0</td>\n",
       "      <td>3.0</td>\n",
       "      <td>2.000000</td>\n",
       "      <td>2.000000</td>\n",
       "      <td>0.000000</td>\n",
       "      <td>1</td>\n",
       "      <td>0</td>\n",
       "      <td>0</td>\n",
       "      <td>2</td>\n",
       "      <td>0</td>\n",
       "      <td>0</td>\n",
       "      <td>1</td>\n",
       "      <td>4</td>\n",
       "      <td>5</td>\n",
       "    </tr>\n",
       "    <tr>\n",
       "      <th>4</th>\n",
       "      <td>22.000000</td>\n",
       "      <td>1.780000</td>\n",
       "      <td>89.800000</td>\n",
       "      <td>2.0</td>\n",
       "      <td>1.0</td>\n",
       "      <td>2.000000</td>\n",
       "      <td>0.000000</td>\n",
       "      <td>0.000000</td>\n",
       "      <td>1</td>\n",
       "      <td>0</td>\n",
       "      <td>0</td>\n",
       "      <td>2</td>\n",
       "      <td>0</td>\n",
       "      <td>0</td>\n",
       "      <td>2</td>\n",
       "      <td>3</td>\n",
       "      <td>6</td>\n",
       "    </tr>\n",
       "    <tr>\n",
       "      <th>...</th>\n",
       "      <td>...</td>\n",
       "      <td>...</td>\n",
       "      <td>...</td>\n",
       "      <td>...</td>\n",
       "      <td>...</td>\n",
       "      <td>...</td>\n",
       "      <td>...</td>\n",
       "      <td>...</td>\n",
       "      <td>...</td>\n",
       "      <td>...</td>\n",
       "      <td>...</td>\n",
       "      <td>...</td>\n",
       "      <td>...</td>\n",
       "      <td>...</td>\n",
       "      <td>...</td>\n",
       "      <td>...</td>\n",
       "      <td>...</td>\n",
       "    </tr>\n",
       "    <tr>\n",
       "      <th>2106</th>\n",
       "      <td>20.976842</td>\n",
       "      <td>1.710730</td>\n",
       "      <td>131.408528</td>\n",
       "      <td>3.0</td>\n",
       "      <td>3.0</td>\n",
       "      <td>1.728139</td>\n",
       "      <td>1.676269</td>\n",
       "      <td>0.906247</td>\n",
       "      <td>0</td>\n",
       "      <td>1</td>\n",
       "      <td>1</td>\n",
       "      <td>2</td>\n",
       "      <td>0</td>\n",
       "      <td>0</td>\n",
       "      <td>2</td>\n",
       "      <td>3</td>\n",
       "      <td>4</td>\n",
       "    </tr>\n",
       "    <tr>\n",
       "      <th>2107</th>\n",
       "      <td>21.982942</td>\n",
       "      <td>1.748584</td>\n",
       "      <td>133.742943</td>\n",
       "      <td>3.0</td>\n",
       "      <td>3.0</td>\n",
       "      <td>2.005130</td>\n",
       "      <td>1.341390</td>\n",
       "      <td>0.599270</td>\n",
       "      <td>0</td>\n",
       "      <td>1</td>\n",
       "      <td>1</td>\n",
       "      <td>2</td>\n",
       "      <td>0</td>\n",
       "      <td>0</td>\n",
       "      <td>2</td>\n",
       "      <td>3</td>\n",
       "      <td>4</td>\n",
       "    </tr>\n",
       "    <tr>\n",
       "      <th>2108</th>\n",
       "      <td>22.524036</td>\n",
       "      <td>1.752206</td>\n",
       "      <td>133.689352</td>\n",
       "      <td>3.0</td>\n",
       "      <td>3.0</td>\n",
       "      <td>2.054193</td>\n",
       "      <td>1.414209</td>\n",
       "      <td>0.646288</td>\n",
       "      <td>0</td>\n",
       "      <td>1</td>\n",
       "      <td>1</td>\n",
       "      <td>2</td>\n",
       "      <td>0</td>\n",
       "      <td>0</td>\n",
       "      <td>2</td>\n",
       "      <td>3</td>\n",
       "      <td>4</td>\n",
       "    </tr>\n",
       "    <tr>\n",
       "      <th>2109</th>\n",
       "      <td>24.361936</td>\n",
       "      <td>1.739450</td>\n",
       "      <td>133.346641</td>\n",
       "      <td>3.0</td>\n",
       "      <td>3.0</td>\n",
       "      <td>2.852339</td>\n",
       "      <td>1.139107</td>\n",
       "      <td>0.586035</td>\n",
       "      <td>0</td>\n",
       "      <td>1</td>\n",
       "      <td>1</td>\n",
       "      <td>2</td>\n",
       "      <td>0</td>\n",
       "      <td>0</td>\n",
       "      <td>2</td>\n",
       "      <td>3</td>\n",
       "      <td>4</td>\n",
       "    </tr>\n",
       "    <tr>\n",
       "      <th>2110</th>\n",
       "      <td>23.664709</td>\n",
       "      <td>1.738836</td>\n",
       "      <td>133.472641</td>\n",
       "      <td>3.0</td>\n",
       "      <td>3.0</td>\n",
       "      <td>2.863513</td>\n",
       "      <td>1.026452</td>\n",
       "      <td>0.714137</td>\n",
       "      <td>0</td>\n",
       "      <td>1</td>\n",
       "      <td>1</td>\n",
       "      <td>2</td>\n",
       "      <td>0</td>\n",
       "      <td>0</td>\n",
       "      <td>2</td>\n",
       "      <td>3</td>\n",
       "      <td>4</td>\n",
       "    </tr>\n",
       "  </tbody>\n",
       "</table>\n",
       "<p>2111 rows × 17 columns</p>\n",
       "</div>"
      ],
      "text/plain": [
       "            Age    Height      Weight  FCVC  NCP      CH2O       FAF  \\\n",
       "0     21.000000  1.620000   64.000000   2.0  3.0  2.000000  0.000000   \n",
       "1     21.000000  1.520000   56.000000   3.0  3.0  3.000000  3.000000   \n",
       "2     23.000000  1.800000   77.000000   2.0  3.0  2.000000  2.000000   \n",
       "3     27.000000  1.800000   87.000000   3.0  3.0  2.000000  2.000000   \n",
       "4     22.000000  1.780000   89.800000   2.0  1.0  2.000000  0.000000   \n",
       "...         ...       ...         ...   ...  ...       ...       ...   \n",
       "2106  20.976842  1.710730  131.408528   3.0  3.0  1.728139  1.676269   \n",
       "2107  21.982942  1.748584  133.742943   3.0  3.0  2.005130  1.341390   \n",
       "2108  22.524036  1.752206  133.689352   3.0  3.0  2.054193  1.414209   \n",
       "2109  24.361936  1.739450  133.346641   3.0  3.0  2.852339  1.139107   \n",
       "2110  23.664709  1.738836  133.472641   3.0  3.0  2.863513  1.026452   \n",
       "\n",
       "           TUE  Gender_n  family_history_n  FAVC_n  CAEC_n  SMOKE_n  SCC_n  \\\n",
       "0     1.000000         0                 1       0       2        0      0   \n",
       "1     0.000000         0                 1       0       2        1      1   \n",
       "2     1.000000         1                 1       0       2        0      0   \n",
       "3     0.000000         1                 0       0       2        0      0   \n",
       "4     0.000000         1                 0       0       2        0      0   \n",
       "...        ...       ...               ...     ...     ...      ...    ...   \n",
       "2106  0.906247         0                 1       1       2        0      0   \n",
       "2107  0.599270         0                 1       1       2        0      0   \n",
       "2108  0.646288         0                 1       1       2        0      0   \n",
       "2109  0.586035         0                 1       1       2        0      0   \n",
       "2110  0.714137         0                 1       1       2        0      0   \n",
       "\n",
       "      CALC_n  MTRANS_n  NObeyesdad_n  \n",
       "0          3         3             1  \n",
       "1          2         3             1  \n",
       "2          1         3             1  \n",
       "3          1         4             5  \n",
       "4          2         3             6  \n",
       "...      ...       ...           ...  \n",
       "2106       2         3             4  \n",
       "2107       2         3             4  \n",
       "2108       2         3             4  \n",
       "2109       2         3             4  \n",
       "2110       2         3             4  \n",
       "\n",
       "[2111 rows x 17 columns]"
      ]
     },
     "execution_count": 12,
     "metadata": {},
     "output_type": "execute_result"
    }
   ],
   "source": [
    "df_n = df.drop(['Gender', 'family_history', 'FAVC', 'CAEC', 'SMOKE', 'SCC', 'CALC', 'MTRANS', 'NObeyesdad'], axis='columns')\n",
    "df_n"
   ]
  },
  {
   "cell_type": "code",
   "execution_count": 13,
   "id": "153b33ab",
   "metadata": {},
   "outputs": [],
   "source": [
    "# The target column NObeyesdad is created by calculating the Body Mass Index (BMI) for each individual. \n",
    "# BMI is a measure of body fat based on an individual's weight and height. \n",
    "# The formula for calculating BMI is weight in kilograms divided by the square of height in meters (BMI=kg/m²). \n",
    "\n",
    "# The results were compared with the data provided by WHO and the Mexican Normativity .\n",
    "# Underweight Less than 18.5\n",
    "# Normal 18.5 to 24.9\n",
    "# Overweight 25.0 to 29.9\n",
    "# Obesity I 30.0 to 34.9\n",
    "# Obesity II 35.0 to 39.9\n",
    "# Obesity III Higher than 40 \n",
    "\n",
    "# Since both weight and height have been used to calculate BMI, therefore, we will drop Weight and Height column\n",
    "# to avoid duplication in the data. "
   ]
  },
  {
   "cell_type": "code",
   "execution_count": 14,
   "id": "97751542",
   "metadata": {},
   "outputs": [],
   "source": [
    "df_new = df_n.drop(['Weight', 'Height'], axis='columns')"
   ]
  },
  {
   "cell_type": "markdown",
   "id": "b24911bf",
   "metadata": {},
   "source": [
    "5. Get the overview of the dataset and describe it."
   ]
  },
  {
   "cell_type": "code",
   "execution_count": 15,
   "id": "c0b9b418",
   "metadata": {},
   "outputs": [
    {
     "name": "stdout",
     "output_type": "stream",
     "text": [
      "Index(['Age', 'FCVC', 'NCP', 'CH2O', 'FAF', 'TUE', 'Gender_n',\n",
      "       'family_history_n', 'FAVC_n', 'CAEC_n', 'SMOKE_n', 'SCC_n', 'CALC_n',\n",
      "       'MTRANS_n', 'NObeyesdad_n'],\n",
      "      dtype='object') \n",
      "\n",
      "(2111, 15) \n",
      "\n",
      "<class 'pandas.core.frame.DataFrame'>\n",
      "RangeIndex: 2111 entries, 0 to 2110\n",
      "Data columns (total 15 columns):\n",
      " #   Column            Non-Null Count  Dtype  \n",
      "---  ------            --------------  -----  \n",
      " 0   Age               2111 non-null   float64\n",
      " 1   FCVC              2111 non-null   float64\n",
      " 2   NCP               2111 non-null   float64\n",
      " 3   CH2O              2111 non-null   float64\n",
      " 4   FAF               2111 non-null   float64\n",
      " 5   TUE               2111 non-null   float64\n",
      " 6   Gender_n          2111 non-null   int32  \n",
      " 7   family_history_n  2111 non-null   int32  \n",
      " 8   FAVC_n            2111 non-null   int32  \n",
      " 9   CAEC_n            2111 non-null   int32  \n",
      " 10  SMOKE_n           2111 non-null   int32  \n",
      " 11  SCC_n             2111 non-null   int32  \n",
      " 12  CALC_n            2111 non-null   int32  \n",
      " 13  MTRANS_n          2111 non-null   int32  \n",
      " 14  NObeyesdad_n      2111 non-null   int32  \n",
      "dtypes: float64(6), int32(9)\n",
      "memory usage: 173.3 KB\n"
     ]
    },
    {
     "data": {
      "text/html": [
       "<div>\n",
       "<style scoped>\n",
       "    .dataframe tbody tr th:only-of-type {\n",
       "        vertical-align: middle;\n",
       "    }\n",
       "\n",
       "    .dataframe tbody tr th {\n",
       "        vertical-align: top;\n",
       "    }\n",
       "\n",
       "    .dataframe thead th {\n",
       "        text-align: right;\n",
       "    }\n",
       "</style>\n",
       "<table border=\"1\" class=\"dataframe\">\n",
       "  <thead>\n",
       "    <tr style=\"text-align: right;\">\n",
       "      <th></th>\n",
       "      <th>Age</th>\n",
       "      <th>FCVC</th>\n",
       "      <th>NCP</th>\n",
       "      <th>CH2O</th>\n",
       "      <th>FAF</th>\n",
       "      <th>TUE</th>\n",
       "      <th>Gender_n</th>\n",
       "      <th>family_history_n</th>\n",
       "      <th>FAVC_n</th>\n",
       "      <th>CAEC_n</th>\n",
       "      <th>SMOKE_n</th>\n",
       "      <th>SCC_n</th>\n",
       "      <th>CALC_n</th>\n",
       "      <th>MTRANS_n</th>\n",
       "      <th>NObeyesdad_n</th>\n",
       "    </tr>\n",
       "  </thead>\n",
       "  <tbody>\n",
       "    <tr>\n",
       "      <th>count</th>\n",
       "      <td>2111.000000</td>\n",
       "      <td>2111.000000</td>\n",
       "      <td>2111.000000</td>\n",
       "      <td>2111.000000</td>\n",
       "      <td>2111.000000</td>\n",
       "      <td>2111.000000</td>\n",
       "      <td>2111.000000</td>\n",
       "      <td>2111.000000</td>\n",
       "      <td>2111.000000</td>\n",
       "      <td>2111.000000</td>\n",
       "      <td>2111.000000</td>\n",
       "      <td>2111.000000</td>\n",
       "      <td>2111.000000</td>\n",
       "      <td>2111.000000</td>\n",
       "      <td>2111.000000</td>\n",
       "    </tr>\n",
       "    <tr>\n",
       "      <th>mean</th>\n",
       "      <td>24.312600</td>\n",
       "      <td>2.419043</td>\n",
       "      <td>2.685628</td>\n",
       "      <td>2.008011</td>\n",
       "      <td>1.010298</td>\n",
       "      <td>0.657866</td>\n",
       "      <td>0.505921</td>\n",
       "      <td>0.817622</td>\n",
       "      <td>0.883941</td>\n",
       "      <td>1.859308</td>\n",
       "      <td>0.020843</td>\n",
       "      <td>0.045476</td>\n",
       "      <td>2.268593</td>\n",
       "      <td>2.365230</td>\n",
       "      <td>3.015632</td>\n",
       "    </tr>\n",
       "    <tr>\n",
       "      <th>std</th>\n",
       "      <td>6.345968</td>\n",
       "      <td>0.533927</td>\n",
       "      <td>0.778039</td>\n",
       "      <td>0.612953</td>\n",
       "      <td>0.850592</td>\n",
       "      <td>0.608927</td>\n",
       "      <td>0.500083</td>\n",
       "      <td>0.386247</td>\n",
       "      <td>0.320371</td>\n",
       "      <td>0.468543</td>\n",
       "      <td>0.142893</td>\n",
       "      <td>0.208395</td>\n",
       "      <td>0.515498</td>\n",
       "      <td>1.261423</td>\n",
       "      <td>1.952090</td>\n",
       "    </tr>\n",
       "    <tr>\n",
       "      <th>min</th>\n",
       "      <td>14.000000</td>\n",
       "      <td>1.000000</td>\n",
       "      <td>1.000000</td>\n",
       "      <td>1.000000</td>\n",
       "      <td>0.000000</td>\n",
       "      <td>0.000000</td>\n",
       "      <td>0.000000</td>\n",
       "      <td>0.000000</td>\n",
       "      <td>0.000000</td>\n",
       "      <td>0.000000</td>\n",
       "      <td>0.000000</td>\n",
       "      <td>0.000000</td>\n",
       "      <td>0.000000</td>\n",
       "      <td>0.000000</td>\n",
       "      <td>0.000000</td>\n",
       "    </tr>\n",
       "    <tr>\n",
       "      <th>25%</th>\n",
       "      <td>19.947192</td>\n",
       "      <td>2.000000</td>\n",
       "      <td>2.658738</td>\n",
       "      <td>1.584812</td>\n",
       "      <td>0.124505</td>\n",
       "      <td>0.000000</td>\n",
       "      <td>0.000000</td>\n",
       "      <td>1.000000</td>\n",
       "      <td>1.000000</td>\n",
       "      <td>2.000000</td>\n",
       "      <td>0.000000</td>\n",
       "      <td>0.000000</td>\n",
       "      <td>2.000000</td>\n",
       "      <td>3.000000</td>\n",
       "      <td>1.000000</td>\n",
       "    </tr>\n",
       "    <tr>\n",
       "      <th>50%</th>\n",
       "      <td>22.777890</td>\n",
       "      <td>2.385502</td>\n",
       "      <td>3.000000</td>\n",
       "      <td>2.000000</td>\n",
       "      <td>1.000000</td>\n",
       "      <td>0.625350</td>\n",
       "      <td>1.000000</td>\n",
       "      <td>1.000000</td>\n",
       "      <td>1.000000</td>\n",
       "      <td>2.000000</td>\n",
       "      <td>0.000000</td>\n",
       "      <td>0.000000</td>\n",
       "      <td>2.000000</td>\n",
       "      <td>3.000000</td>\n",
       "      <td>3.000000</td>\n",
       "    </tr>\n",
       "    <tr>\n",
       "      <th>75%</th>\n",
       "      <td>26.000000</td>\n",
       "      <td>3.000000</td>\n",
       "      <td>3.000000</td>\n",
       "      <td>2.477420</td>\n",
       "      <td>1.666678</td>\n",
       "      <td>1.000000</td>\n",
       "      <td>1.000000</td>\n",
       "      <td>1.000000</td>\n",
       "      <td>1.000000</td>\n",
       "      <td>2.000000</td>\n",
       "      <td>0.000000</td>\n",
       "      <td>0.000000</td>\n",
       "      <td>3.000000</td>\n",
       "      <td>3.000000</td>\n",
       "      <td>5.000000</td>\n",
       "    </tr>\n",
       "    <tr>\n",
       "      <th>max</th>\n",
       "      <td>61.000000</td>\n",
       "      <td>3.000000</td>\n",
       "      <td>4.000000</td>\n",
       "      <td>3.000000</td>\n",
       "      <td>3.000000</td>\n",
       "      <td>2.000000</td>\n",
       "      <td>1.000000</td>\n",
       "      <td>1.000000</td>\n",
       "      <td>1.000000</td>\n",
       "      <td>3.000000</td>\n",
       "      <td>1.000000</td>\n",
       "      <td>1.000000</td>\n",
       "      <td>3.000000</td>\n",
       "      <td>4.000000</td>\n",
       "      <td>6.000000</td>\n",
       "    </tr>\n",
       "  </tbody>\n",
       "</table>\n",
       "</div>"
      ],
      "text/plain": [
       "               Age         FCVC          NCP         CH2O          FAF  \\\n",
       "count  2111.000000  2111.000000  2111.000000  2111.000000  2111.000000   \n",
       "mean     24.312600     2.419043     2.685628     2.008011     1.010298   \n",
       "std       6.345968     0.533927     0.778039     0.612953     0.850592   \n",
       "min      14.000000     1.000000     1.000000     1.000000     0.000000   \n",
       "25%      19.947192     2.000000     2.658738     1.584812     0.124505   \n",
       "50%      22.777890     2.385502     3.000000     2.000000     1.000000   \n",
       "75%      26.000000     3.000000     3.000000     2.477420     1.666678   \n",
       "max      61.000000     3.000000     4.000000     3.000000     3.000000   \n",
       "\n",
       "               TUE     Gender_n  family_history_n       FAVC_n       CAEC_n  \\\n",
       "count  2111.000000  2111.000000       2111.000000  2111.000000  2111.000000   \n",
       "mean      0.657866     0.505921          0.817622     0.883941     1.859308   \n",
       "std       0.608927     0.500083          0.386247     0.320371     0.468543   \n",
       "min       0.000000     0.000000          0.000000     0.000000     0.000000   \n",
       "25%       0.000000     0.000000          1.000000     1.000000     2.000000   \n",
       "50%       0.625350     1.000000          1.000000     1.000000     2.000000   \n",
       "75%       1.000000     1.000000          1.000000     1.000000     2.000000   \n",
       "max       2.000000     1.000000          1.000000     1.000000     3.000000   \n",
       "\n",
       "           SMOKE_n        SCC_n       CALC_n     MTRANS_n  NObeyesdad_n  \n",
       "count  2111.000000  2111.000000  2111.000000  2111.000000   2111.000000  \n",
       "mean      0.020843     0.045476     2.268593     2.365230      3.015632  \n",
       "std       0.142893     0.208395     0.515498     1.261423      1.952090  \n",
       "min       0.000000     0.000000     0.000000     0.000000      0.000000  \n",
       "25%       0.000000     0.000000     2.000000     3.000000      1.000000  \n",
       "50%       0.000000     0.000000     2.000000     3.000000      3.000000  \n",
       "75%       0.000000     0.000000     3.000000     3.000000      5.000000  \n",
       "max       1.000000     1.000000     3.000000     4.000000      6.000000  "
      ]
     },
     "execution_count": 15,
     "metadata": {},
     "output_type": "execute_result"
    }
   ],
   "source": [
    "#Return columns\n",
    "print(df_new.keys(), \"\\n\")\n",
    "\n",
    "#Return array dimensions\n",
    "print(df_new.shape, \"\\n\")\n",
    "\n",
    "#Dataframe summary\n",
    "df_new.info()\n",
    "\n",
    "#Summarize  central tendency, dispersion, and shape of a dataset’s distribution\n",
    "df_new.describe()"
   ]
  },
  {
   "cell_type": "markdown",
   "id": "f40ee7ee",
   "metadata": {},
   "source": [
    "6. Split the data into independent and target sets."
   ]
  },
  {
   "cell_type": "code",
   "execution_count": 16,
   "id": "7e91acc6",
   "metadata": {},
   "outputs": [
    {
     "name": "stdout",
     "output_type": "stream",
     "text": [
      "(2111, 15)\n",
      "(2111, 14)\n",
      "(2111,)\n"
     ]
    }
   ],
   "source": [
    "#Store the feature and target variable \n",
    "X = df_new.iloc[:, :-1]\n",
    "y = df_new.iloc[:, -1]\n",
    "\n",
    "# X represents all the features in df_n, except for the last column (independent variables) \n",
    "# y represents only the last column of df_n, which is the target variable.\n",
    "\n",
    "print(df_new.shape)\n",
    "print(X.shape)\n",
    "print(y.shape)"
   ]
  },
  {
   "cell_type": "markdown",
   "id": "74e5a664",
   "metadata": {},
   "source": [
    "7. Select the best features using LASSO\n",
    "\n",
    "In our data, we have 14 features and only a subset of them are actually important for predicting the outcome.\n",
    "Lasso (Least Absolute Shrinkage and Selection Operator) model which is a linear regression method is used to identify the most important features for predicting the outcome, and discard the rest. It can also be useful for reducing overfitting in a model by removing unnecessary features and achieve better performance."
   ]
  },
  {
   "cell_type": "code",
   "execution_count": 17,
   "id": "a927c0c6",
   "metadata": {},
   "outputs": [
    {
     "name": "stdout",
     "output_type": "stream",
     "text": [
      "Number of selected features: 8\n",
      "Selected feature indices: [ 0  2  3  4  7  9 12 13]\n",
      "Selected feature names: Index(['Age', 'NCP', 'CH2O', 'FAF', 'family_history_n', 'CAEC_n', 'CALC_n',\n",
      "       'MTRANS_n'],\n",
      "      dtype='object')\n"
     ]
    }
   ],
   "source": [
    "from sklearn.linear_model import Lasso\n",
    "from sklearn.preprocessing import StandardScaler\n",
    "\n",
    "# Standardize the features\n",
    "scaler = StandardScaler()\n",
    "X_std = scaler.fit_transform(X)\n",
    "\n",
    "# Fit a Lasso model to the data and select the most important features\n",
    "lasso = Lasso(alpha=0.1)\n",
    "lasso.fit(X_std, y)\n",
    "\n",
    "# Get the indices of the selected features\n",
    "selected_feature_indices = lasso.coef_.nonzero()[0]\n",
    "\n",
    "# Get the names of the selected features\n",
    "n_selected_features = (lasso.coef_ != 0).sum()\n",
    "selected_feature_names = X.columns[selected_feature_indices]\n",
    "\n",
    "# Print the names of the selected features\n",
    "print(\"Number of selected features:\", n_selected_features)\n",
    "print(\"Selected feature indices:\", lasso.coef_.nonzero()[0])\n",
    "print(\"Selected feature names:\", selected_feature_names)"
   ]
  },
  {
   "cell_type": "markdown",
   "id": "0afbd91a",
   "metadata": {},
   "source": [
    "8. Create subset of data set based on the selected features:"
   ]
  },
  {
   "cell_type": "code",
   "execution_count": 18,
   "id": "124dda05",
   "metadata": {},
   "outputs": [
    {
     "name": "stdout",
     "output_type": "stream",
     "text": [
      "<bound method NDFrame.head of             Age  NCP      CH2O       FAF  family_history_n  CAEC_n  CALC_n  \\\n",
      "0     21.000000  3.0  2.000000  0.000000                 1       2       3   \n",
      "1     21.000000  3.0  3.000000  3.000000                 1       2       2   \n",
      "2     23.000000  3.0  2.000000  2.000000                 1       2       1   \n",
      "3     27.000000  3.0  2.000000  2.000000                 0       2       1   \n",
      "4     22.000000  1.0  2.000000  0.000000                 0       2       2   \n",
      "...         ...  ...       ...       ...               ...     ...     ...   \n",
      "2106  20.976842  3.0  1.728139  1.676269                 1       2       2   \n",
      "2107  21.982942  3.0  2.005130  1.341390                 1       2       2   \n",
      "2108  22.524036  3.0  2.054193  1.414209                 1       2       2   \n",
      "2109  24.361936  3.0  2.852339  1.139107                 1       2       2   \n",
      "2110  23.664709  3.0  2.863513  1.026452                 1       2       2   \n",
      "\n",
      "      MTRANS_n  \n",
      "0            3  \n",
      "1            3  \n",
      "2            3  \n",
      "3            4  \n",
      "4            3  \n",
      "...        ...  \n",
      "2106         3  \n",
      "2107         3  \n",
      "2108         3  \n",
      "2109         3  \n",
      "2110         3  \n",
      "\n",
      "[2111 rows x 8 columns]>\n"
     ]
    }
   ],
   "source": [
    "New_X = X.loc[:,['Age', 'NCP', 'CH2O', 'FAF', 'family_history_n', 'CAEC_n', 'CALC_n','MTRANS_n']]\n",
    "New_X.head(10)\n",
    "New_X.shape\n",
    "print(New_X.head)"
   ]
  },
  {
   "cell_type": "markdown",
   "id": "9814354b",
   "metadata": {},
   "source": [
    "9. Partition the data into training and test sets (70/30)"
   ]
  },
  {
   "cell_type": "code",
   "execution_count": 19,
   "id": "1732b03c",
   "metadata": {},
   "outputs": [
    {
     "name": "stdout",
     "output_type": "stream",
     "text": [
      "X Train: (1477, 8)\n",
      "X Test: (634, 8)\n",
      "Y Train: (1477,)\n",
      "Y Test: (634,)\n"
     ]
    }
   ],
   "source": [
    "X_train, X_test, y_train, y_test = train_test_split(New_X,y,test_size=0.30,random_state=42)\n",
    "\n",
    "print(\"X Train:\", X_train.shape)\n",
    "print(\"X Test:\", X_test.shape)\n",
    "print(\"Y Train:\", y_train.shape)\n",
    "print(\"Y Test:\", y_test.shape)"
   ]
  },
  {
   "cell_type": "markdown",
   "id": "6c3ff0ae",
   "metadata": {},
   "source": [
    "# Select the appropriate predictive model"
   ]
  },
  {
   "cell_type": "markdown",
   "id": "e966be06",
   "metadata": {},
   "source": [
    "I selected the following models:\n",
    "\n",
    "    1. Random Forest \n",
    "    2. Extreme Gradient Boostin(XGBoost)\n",
    "    3. K Nearest Neighbout (KNN)\n",
    "   \n",
    "\n",
    "I used the training data to train the selected model. This also involved fitting the model to the training data.\n",
    "Then I used the test data to evaluate the performance of the model. \n",
    "This includes measuring the model's accuracy with cross-validation to evaluate the performance of a model as it helps to :\n",
    "1. reduce the variance in the estimate of the model's performance by using multiple test sets, \n",
    "2. provide a more reliable estimate of the model's performance because it uses all the available data for training and testing\n",
    "3. help to identify any problems with the model by comparing the performance on the training and test sets and \n",
    "4. improve the reliability and generalizability of the model.\n",
    "\n",
    "I then plottd confusion matrix to see the distribution of errors. This is followed by generating 'classficiation report' which also calcualted precision, recall and F1 score for all classes. \n",
    "Towards the end, I performed feature importances as it helps to identify the most important features or variables that contribute the most to the performance of a machine learning model.\n",
    "\n",
    "The findings are given below:"
   ]
  },
  {
   "cell_type": "markdown",
   "id": "6fdcd3f1",
   "metadata": {},
   "source": [
    "### 1: Random Forest"
   ]
  },
  {
   "cell_type": "code",
   "execution_count": 20,
   "id": "02b3f7b9",
   "metadata": {},
   "outputs": [],
   "source": [
    "import time\n",
    "import pickle"
   ]
  },
  {
   "cell_type": "code",
   "execution_count": 21,
   "id": "aa42c019",
   "metadata": {},
   "outputs": [
    {
     "name": "stdout",
     "output_type": "stream",
     "text": [
      "Accuracy: 0.7208201892744479 \n",
      "\n",
      "Training time: 0.16 seconds\n",
      "Inference time: 0.01 seconds\n",
      "Model size: 2306922.00 bytes\n"
     ]
    }
   ],
   "source": [
    "# Import library \n",
    "from sklearn.ensemble import RandomForestClassifier\n",
    "\n",
    "# Initialize the Random Forest Classifier\n",
    "model_rf = RandomForestClassifier(n_estimators=50, max_depth=10, min_samples_split=2, min_samples_leaf=1, max_features='auto', random_state=42)\n",
    "\n",
    "# n_estimators=50, which means I used 50 decision trees in our Random Forest.\n",
    "# The accuracy from 30 to 50 n_estimators was increasing but then decreased at 60, \n",
    "#so I got the base score with n_estimator 50\n",
    "\n",
    "# max_depth = 10 which limits the depth of each decision tree to a maximum of 10 levels.\n",
    "# min_samples_split = 2, which means that a node will only be split if it contains at least 2 samples.\n",
    "# min_samples_leaf = 1, which means that each leaf node must contain at least 1 sample.\n",
    "# max_features = 'auto', which means that the algorithm will consider all features when looking for the best split.\n",
    "# random_state = 42 which ensures that the results are reproducible.\n",
    "\n",
    "# Start training time measurement\n",
    "start_time = time.time()\n",
    "\n",
    "# Train the model on the training data\n",
    "model_rf.fit(X_train, y_train)\n",
    "\n",
    "# End training time measurement\n",
    "end_time = time.time()\n",
    "\n",
    "# Calculate training time\n",
    "training_time_rf = end_time - start_time\n",
    "\n",
    "# Start inference time measurement\n",
    "start_time = time.time()\n",
    "\n",
    "# Make predictions on the test data\n",
    "y_pred = model_rf.predict(X_test)\n",
    "\n",
    "# End inference time measurement\n",
    "end_time = time.time()\n",
    "\n",
    "# Calculate inference time\n",
    "inference_time_rf = end_time - start_time\n",
    "\n",
    "# Calculate model size in bytes\n",
    "model_size_rf = pickle.dumps(model_rf).__sizeof__()\n",
    "\n",
    "# Evaluate the performance of the model on the testing data\n",
    "accuracy_rf = model_rf.score(X_test, y_test)\n",
    "\n",
    "print(\"Accuracy:\", accuracy_rf, \"\\n\")\n",
    "print(\"Training time: {:.2f} seconds\".format(training_time_rf))\n",
    "print(\"Inference time: {:.2f} seconds\".format(inference_time_rf))\n",
    "print(\"Model size: {:.2f} bytes\".format(model_size_rf))"
   ]
  },
  {
   "cell_type": "code",
   "execution_count": 22,
   "id": "0e62d2c7",
   "metadata": {},
   "outputs": [
    {
     "name": "stdout",
     "output_type": "stream",
     "text": [
      "Cross-validation scores: [0.74528302 0.72511848 0.69194313 0.74407583 0.78199052 0.75829384\n",
      " 0.7535545  0.72985782 0.77725118 0.82464455] \n",
      "\n",
      "Mean: 0.753201287668783 \n",
      "\n",
      "Standard Deviation: 0.03430672317162391 \n",
      "\n",
      "Processing time: 2.11 seconds\n"
     ]
    }
   ],
   "source": [
    "# Perform cross Validation \n",
    "start_time = time.time()\n",
    "\n",
    "# Set up KFold cross-validation\n",
    "kfold = KFold(n_splits=10, shuffle=True, random_state=42)\n",
    "\n",
    "# Perform 10-fold cross-validation\n",
    "rf_cv = cross_val_score(model_rf, New_X, y, scoring='accuracy', cv=kfold)\n",
    "rf_cv\n",
    "\n",
    "end_time = time.time()\n",
    "\n",
    "# Calculate processing time\n",
    "processing_time_rf = end_time - start_time\n",
    "\n",
    "# Print the cross-validation scores, mean and standard deviation of scores, and processing time\n",
    "print(\"Cross-validation scores:\", rf_cv, \"\\n\")\n",
    "print(\"Mean:\", np.mean(rf_cv), \"\\n\")\n",
    "print(\"Standard Deviation:\", np.std(rf_cv), \"\\n\")\n",
    "print(\"Processing time: {:.2f} seconds\".format(processing_time_rf))"
   ]
  },
  {
   "cell_type": "code",
   "execution_count": 23,
   "id": "152692f0",
   "metadata": {
    "scrolled": true
   },
   "outputs": [
    {
     "data": {
      "image/png": "[encoded data removed]",
      "text/plain": [
       "<Figure size 576x396 with 1 Axes>"
      ]
     },
     "metadata": {},
     "output_type": "display_data"
    }
   ],
   "source": [
    "# Plot a line chart of the cross-validation scores for each fold\n",
    "fig, ax = plt.subplots()\n",
    "ax.plot(range(1,11), rf_cv, '-o')\n",
    "ax.set_xlabel('Fold')\n",
    "ax.set_ylabel('Score')\n",
    "ax.set_title('Cross-Validation Scores')\n",
    "plt.show()"
   ]
  },
  {
   "cell_type": "code",
   "execution_count": 24,
   "id": "87e7f606",
   "metadata": {},
   "outputs": [
    {
     "name": "stdout",
     "output_type": "stream",
     "text": [
      "[[72  6  0  0  1  7  0]\n",
      " [12 59 12  0  0  5  5]\n",
      " [ 2  7 73  5 10  2  3]\n",
      " [ 0  2  2 79  1  0  4]\n",
      " [ 0  1  0  0 97  0  0]\n",
      " [ 2 18  5  7 13 41  2]\n",
      " [ 1  6 23  4  3  6 36]]\n"
     ]
    },
    {
     "data": {
      "text/plain": [
       "<sklearn.metrics._plot.confusion_matrix.ConfusionMatrixDisplay at 0x20510786d00>"
      ]
     },
     "execution_count": 24,
     "metadata": {},
     "output_type": "execute_result"
    },
    {
     "data": {
      "image/png": "[encoded data removed]",
      "text/plain": [
       "<Figure size 576x396 with 2 Axes>"
      ]
     },
     "metadata": {},
     "output_type": "display_data"
    }
   ],
   "source": [
    "# Plot confusion matrix to see the distribution of errors. \n",
    "# For that I need x predicted; so here I can use model.predict on X_test data set to get y_predicted.\n",
    "\n",
    "# Make predictions on the testing data\n",
    "y_pred = model_rf.predict(X_test)\n",
    "\n",
    "# Compute the confusion matrix\n",
    "cm = confusion_matrix(y_test, y_pred)\n",
    "print(cm)\n",
    "\n",
    "ConfusionMatrixDisplay(confusion_matrix=cm).plot()"
   ]
  },
  {
   "cell_type": "markdown",
   "id": "700f2a76",
   "metadata": {},
   "source": [
    "Selected model performances interpretations:\n",
    "\n",
    "Model Performance on the first class. \n",
    "The model predicted 72 instances as belonging to the first class, out of which:\n",
    "6 were misclassified as the second class, \n",
    "1 was misclassified as the fifth class, and 7 were misclassified as the sixth class. \n",
    "There were no misclassifications with respect to the other classes.\n",
    "\n",
    "Model Performance on the fourth class. \n",
    "The model predicted 79 instances as belonging to the fourth class, out of which \n",
    "2 were misclassified as the second class, 2 were misclassified as the third class, \n",
    "1 was misclassified as the fifth class, and 4 were misclassified as the seventh class.\n",
    "\n",
    "Model Performance on the fifth class.\n",
    "The model predicted 97 instances as belonging to the fifth class, out of which\n",
    "1 was misclassified as the second class."
   ]
  },
  {
   "cell_type": "code",
   "execution_count": 25,
   "id": "f7611d26",
   "metadata": {},
   "outputs": [
    {
     "name": "stdout",
     "output_type": "stream",
     "text": [
      "              precision    recall  f1-score   support\n",
      "\n",
      "           0       0.84      0.81      0.82        89\n",
      "           1       0.63      0.60      0.61        99\n",
      "           2       0.72      0.63      0.67       115\n",
      "           3       0.90      0.83      0.86        95\n",
      "           4       0.99      0.78      0.87       125\n",
      "           5       0.47      0.67      0.55        61\n",
      "           6       0.46      0.72      0.56        50\n",
      "\n",
      "    accuracy                           0.72       634\n",
      "   macro avg       0.71      0.72      0.71       634\n",
      "weighted avg       0.76      0.72      0.73       634\n",
      "\n"
     ]
    }
   ],
   "source": [
    "from sklearn.metrics import classification_report\n",
    "\n",
    "classification_report(y_pred, y_test)\n",
    "rf_report = (classification_report(y_pred, y_test))\n",
    "print(rf_report)\n"
   ]
  },
  {
   "cell_type": "markdown",
   "id": "374ae332",
   "metadata": {},
   "source": [
    "The model was trained to classify instances into one of seven categories (0-6), and this report shows the performance of the model on a test set of 634 instances.\n",
    "\n",
    "Accuracy: 72% of instances in the test set were correctly classified by the model.\n",
    "\n",
    "Precision: On average, 76% of instances classified as positive by the model are truly positive.\n",
    "\n",
    "Recall:  On average, the model correctly identified 72% of true positives.\n",
    "\n",
    "F1-score: The weighted average F1-score across all classes is 0.73, a metric that combines precision and recall into a single score that balances both metrics. "
   ]
  },
  {
   "cell_type": "code",
   "execution_count": 80,
   "id": "d0a31d74",
   "metadata": {},
   "outputs": [
    {
     "data": {
      "text/html": [
       "<div>\n",
       "<style scoped>\n",
       "    .dataframe tbody tr th:only-of-type {\n",
       "        vertical-align: middle;\n",
       "    }\n",
       "\n",
       "    .dataframe tbody tr th {\n",
       "        vertical-align: top;\n",
       "    }\n",
       "\n",
       "    .dataframe thead th {\n",
       "        text-align: right;\n",
       "    }\n",
       "</style>\n",
       "<table border=\"1\" class=\"dataframe\">\n",
       "  <thead>\n",
       "    <tr style=\"text-align: right;\">\n",
       "      <th></th>\n",
       "      <th>importance</th>\n",
       "    </tr>\n",
       "    <tr>\n",
       "      <th>feature</th>\n",
       "      <th></th>\n",
       "    </tr>\n",
       "  </thead>\n",
       "  <tbody>\n",
       "    <tr>\n",
       "      <th>Age</th>\n",
       "      <td>0.264920</td>\n",
       "    </tr>\n",
       "    <tr>\n",
       "      <th>FAF</th>\n",
       "      <td>0.159967</td>\n",
       "    </tr>\n",
       "    <tr>\n",
       "      <th>CH2O</th>\n",
       "      <td>0.156705</td>\n",
       "    </tr>\n",
       "    <tr>\n",
       "      <th>NCP</th>\n",
       "      <td>0.148500</td>\n",
       "    </tr>\n",
       "    <tr>\n",
       "      <th>CALC_n</th>\n",
       "      <td>0.077264</td>\n",
       "    </tr>\n",
       "    <tr>\n",
       "      <th>CAEC_n</th>\n",
       "      <td>0.074574</td>\n",
       "    </tr>\n",
       "    <tr>\n",
       "      <th>family_history_n</th>\n",
       "      <td>0.060505</td>\n",
       "    </tr>\n",
       "    <tr>\n",
       "      <th>MTRANS_n</th>\n",
       "      <td>0.057565</td>\n",
       "    </tr>\n",
       "  </tbody>\n",
       "</table>\n",
       "</div>"
      ],
      "text/plain": [
       "                  importance\n",
       "feature                     \n",
       "Age                 0.264920\n",
       "FAF                 0.159967\n",
       "CH2O                0.156705\n",
       "NCP                 0.148500\n",
       "CALC_n              0.077264\n",
       "CAEC_n              0.074574\n",
       "family_history_n    0.060505\n",
       "MTRANS_n            0.057565"
      ]
     },
     "execution_count": 80,
     "metadata": {},
     "output_type": "execute_result"
    }
   ],
   "source": [
    "# Get feature importances\n",
    "importances = model_rf.feature_importances_\n",
    "\n",
    "# Create DataFrame of feature importances\n",
    "importances = pd.DataFrame({'feature': New_X.columns, 'importance': model_rf.feature_importances_})\n",
    "importances = importances.sort_values('importance', ascending=False).set_index('feature')\n",
    "importances"
   ]
  },
  {
   "cell_type": "code",
   "execution_count": 83,
   "id": "ff4d165a",
   "metadata": {
    "scrolled": true
   },
   "outputs": [
    {
     "data": {
      "image/png": "[encoded data removed]",
      "text/plain": [
       "<Figure size 576x432 with 1 Axes>"
      ]
     },
     "metadata": {},
     "output_type": "display_data"
    }
   ],
   "source": [
    "# Plot feature importances\n",
    "# Create a horizontal bar chart\n",
    "plt.figure(figsize=(8, 6))\n",
    "plt.barh(importances.index, importances['importance'])\n",
    "\n",
    "# Add axis labels and title\n",
    "plt.xlabel('Importance')\n",
    "plt.ylabel('Feature')\n",
    "plt.title('Feature Importance Scores - Random Forest')\n",
    "\n",
    "# Show the plot\n",
    "plt.show()"
   ]
  },
  {
   "cell_type": "markdown",
   "id": "9f19b72a",
   "metadata": {},
   "source": [
    "According to the Random Forest model, the factors that influence the type of obesity in order of score are age, physical activity (FAF), water consumptions (CH2o), number of main meals (NCP), Consumption of Alcohol (CALC_n) and consumption of food between meals (CAEC_n)\n"
   ]
  },
  {
   "cell_type": "markdown",
   "id": "f8813f62",
   "metadata": {},
   "source": [
    "###  2: XGBoost"
   ]
  },
  {
   "cell_type": "code",
   "execution_count": 28,
   "id": "269ea593",
   "metadata": {},
   "outputs": [
    {
     "name": "stdout",
     "output_type": "stream",
     "text": [
      "Accuracy: 0.7539432176656151 \n",
      "\n",
      "Training time: 0.91 seconds\n",
      "Inference time: 0.01 seconds\n",
      "Model size: 1326662.00 bytes\n"
     ]
    }
   ],
   "source": [
    "# Import library \n",
    "from xgboost import XGBClassifier\n",
    "import xgboost as xgb\n",
    "\n",
    "# Initialize the XGBoost classifier\n",
    "model_xgb = XGBClassifier()\n",
    "\n",
    "params = {'booster': 'gbtree',\n",
    "          'eta': 0.1,\n",
    "          'max_depth': 5,\n",
    "          'subsample': 0.8,\n",
    "          'colsample_bytree': 0.8}\n",
    "\n",
    "# booster type is gbtree to run (default).\n",
    "# eta (learning rate) to 0.1 : It controls the step size shrinkage at each boosting iteration (default is 0.3).\n",
    "# max_depth to 5; it is the maximum depth of the tree (default is 6); a lower value can help to reduce overfitting.\n",
    "# subsample ratio of the training instances to 0.8 (default is 1)\n",
    "# subsample ratio of columns when constructing each tree to 0.8 (default is 1)\n",
    "\n",
    "# Start training time measurement\n",
    "start_time = time.time()\n",
    "\n",
    "# Train the model on the training data\n",
    "model_xgb.fit(X_train, y_train)\n",
    "\n",
    "# End training time measurement\n",
    "end_time = time.time()\n",
    "\n",
    "# Calculate training time\n",
    "training_time_xg = end_time - start_time\n",
    "\n",
    "# Start inference time measurement\n",
    "start_time = time.time()\n",
    "\n",
    "# Make predictions on the test data\n",
    "y_pred = model_xgb.predict(X_test)\n",
    "\n",
    "# End inference time measurement\n",
    "end_time = time.time()\n",
    "\n",
    "# Calculate inference time\n",
    "inference_time_xg = end_time - start_time\n",
    "\n",
    "# Calculate model size in bytes\n",
    "model_size_xg = pickle.dumps(model_xgb).__sizeof__()\n",
    "\n",
    "# Evaluate the performance of the model on the testing data\n",
    "accuracy_xg = model_xgb.score(X_test, y_test)\n",
    "\n",
    "print(\"Accuracy:\", accuracy_xg, \"\\n\")\n",
    "print(\"Training time: {:.2f} seconds\".format(training_time_xg))\n",
    "print(\"Inference time: {:.2f} seconds\".format(inference_time_xg))\n",
    "print(\"Model size: {:.2f} bytes\".format(model_size_xg))"
   ]
  },
  {
   "cell_type": "code",
   "execution_count": 29,
   "id": "fb443ce3",
   "metadata": {},
   "outputs": [
    {
     "name": "stdout",
     "output_type": "stream",
     "text": [
      "Cross-validation scores: [0.76886792 0.75829384 0.71563981 0.83886256 0.77725118 0.81042654\n",
      " 0.78672986 0.78199052 0.79620853 0.83412322] \n",
      "\n",
      "Mean: 0.7868393990879012 \n",
      "\n",
      "Standard Deviation: 0.03450936804800906 \n",
      "\n",
      "Processing time: 10.40 seconds\n"
     ]
    }
   ],
   "source": [
    "# Perform cross Validation \n",
    "\n",
    "start_time = time.time()\n",
    "# Set up KFold cross-validation\n",
    "kfold = KFold(n_splits=10, shuffle=True, random_state=42)\n",
    "\n",
    "# Perform 10-fold cross-validation\n",
    "xg_cv = cross_val_score(model_xgb, New_X, y, cv=kfold)\n",
    "xg_cv\n",
    "\n",
    "end_time = time.time()\n",
    "\n",
    "# Calculate processing time\n",
    "processing_time_xg = end_time - start_time\n",
    "\n",
    "# Print the cross-validation scores, mean and standard deviation of scores, and processing time\n",
    "\n",
    "print(\"Cross-validation scores:\", xg_cv, \"\\n\")\n",
    "print(\"Mean:\", np.mean(xg_cv), \"\\n\")\n",
    "print(\"Standard Deviation:\", np.std(xg_cv), \"\\n\")\n",
    "print(\"Processing time: {:.2f} seconds\".format(processing_time_xg))"
   ]
  },
  {
   "cell_type": "code",
   "execution_count": 30,
   "id": "a6cad424",
   "metadata": {},
   "outputs": [
    {
     "data": {
      "image/png": "[encoded data removed]",
      "text/plain": [
       "<Figure size 576x396 with 1 Axes>"
      ]
     },
     "metadata": {},
     "output_type": "display_data"
    }
   ],
   "source": [
    "# Plot a line chart of the cross-validation scores for each fold\n",
    "fig, ax = plt.subplots()\n",
    "ax.plot(range(1,11), xg_cv, '-o')\n",
    "ax.set_xlabel('Fold')\n",
    "ax.set_ylabel('Score')\n",
    "ax.set_title('Cross-Validation Scores')\n",
    "plt.show()"
   ]
  },
  {
   "cell_type": "code",
   "execution_count": 45,
   "id": "25495e68",
   "metadata": {},
   "outputs": [
    {
     "name": "stdout",
     "output_type": "stream",
     "text": [
      "[[73  5  1  0  0  5  2]\n",
      " [ 8 65  9  0  0  4  7]\n",
      " [ 5  7 74  4  4  4  4]\n",
      " [ 0  2  3 74  1  1  7]\n",
      " [ 0  1  0  0 95  2  0]\n",
      " [ 1 17  7  4  3 53  3]\n",
      " [ 3  9 10  5  1  7 44]]\n"
     ]
    },
    {
     "data": {
      "text/plain": [
       "<sklearn.metrics._plot.confusion_matrix.ConfusionMatrixDisplay at 0x20512fea100>"
      ]
     },
     "execution_count": 45,
     "metadata": {},
     "output_type": "execute_result"
    },
    {
     "data": {
      "image/png": "[encoded data removed]",
      "text/plain": [
       "<Figure size 576x396 with 2 Axes>"
      ]
     },
     "metadata": {},
     "output_type": "display_data"
    }
   ],
   "source": [
    "# Plot confusion matrix to see the distribution of errors. \n",
    "# Use model.predict on X_test data set to get y_predicted.\n",
    "\n",
    "# Make predictions on the testing data\n",
    "y_pred = model_xgb.predict(X_test)\n",
    "\n",
    "# Compute the confusion matrix\n",
    "cm = confusion_matrix(y_test, y_pred)\n",
    "print(cm)\n",
    "\n",
    "ConfusionMatrixDisplay(confusion_matrix=cm).plot()"
   ]
  },
  {
   "cell_type": "markdown",
   "id": "4c6d64a4",
   "metadata": {},
   "source": [
    "Selected model performances interpretations:\n",
    "\n",
    "The diagonal entries (73, 65, 74, 74, 95, 53, 44) represent the number of samples that were correctly classified.\n",
    "\n",
    "The top-left cell (73) represents the number of samples that truly belong to class 0 and were correctly predicted as class 0.\n",
    "\n",
    "The cell in the second row and third column (9) represents the number of samples that truly belong to class 2 but were misclassified as class 3.\n",
    "\n",
    "The cell in the third row and second column (7) represents the number of samples that truly belong to class 1 but were misclassified as class 2.\n",
    "\n",
    "The cell in the fifth row and sixth column (2) represents the number of samples that truly belong to class 4 but were misclassified as class 5."
   ]
  },
  {
   "cell_type": "code",
   "execution_count": 46,
   "id": "1b2d238b",
   "metadata": {},
   "outputs": [
    {
     "name": "stdout",
     "output_type": "stream",
     "text": [
      "              precision    recall  f1-score   support\n",
      "\n",
      "           0       0.85      0.81      0.83        90\n",
      "           1       0.70      0.61      0.65       106\n",
      "           2       0.73      0.71      0.72       104\n",
      "           3       0.84      0.85      0.85        87\n",
      "           4       0.97      0.91      0.94       104\n",
      "           5       0.60      0.70      0.65        76\n",
      "           6       0.56      0.66      0.60        67\n",
      "\n",
      "    accuracy                           0.75       634\n",
      "   macro avg       0.75      0.75      0.75       634\n",
      "weighted avg       0.76      0.75      0.76       634\n",
      "\n"
     ]
    }
   ],
   "source": [
    "# Compute classification report\n",
    "\n",
    "classification_report(y_pred, y_test)\n",
    "xg_report = (classification_report(y_pred, y_test))\n",
    "print(xg_report)\n"
   ]
  },
  {
   "cell_type": "markdown",
   "id": "9fcf19ad",
   "metadata": {},
   "source": [
    "The model was trained to classify instances into one of seven categories (0-6), and this report shows the performance of the model on a test set of 634 instances.\n",
    "\n",
    "Accuracy: 75% of instances in the test set were correctly classified by the model.\n",
    "\n",
    "Precision: On average, 76% of instances classified as positive by the model are truly positive.\n",
    "\n",
    "Recall: On average, the model correctly identified 75% of true positives.\n",
    "\n",
    "F1-score: The weighted average F1-score across all classes is 76, a metric that combines precision and recall into a single score that balances both metrics."
   ]
  },
  {
   "cell_type": "code",
   "execution_count": 85,
   "id": "8cafe3cc",
   "metadata": {
    "scrolled": false
   },
   "outputs": [
    {
     "data": {
      "text/html": [
       "<div>\n",
       "<style scoped>\n",
       "    .dataframe tbody tr th:only-of-type {\n",
       "        vertical-align: middle;\n",
       "    }\n",
       "\n",
       "    .dataframe tbody tr th {\n",
       "        vertical-align: top;\n",
       "    }\n",
       "\n",
       "    .dataframe thead th {\n",
       "        text-align: right;\n",
       "    }\n",
       "</style>\n",
       "<table border=\"1\" class=\"dataframe\">\n",
       "  <thead>\n",
       "    <tr style=\"text-align: right;\">\n",
       "      <th></th>\n",
       "      <th>importance</th>\n",
       "    </tr>\n",
       "    <tr>\n",
       "      <th>feature</th>\n",
       "      <th></th>\n",
       "    </tr>\n",
       "  </thead>\n",
       "  <tbody>\n",
       "    <tr>\n",
       "      <th>family_history_n</th>\n",
       "      <td>0.200564</td>\n",
       "    </tr>\n",
       "    <tr>\n",
       "      <th>CAEC_n</th>\n",
       "      <td>0.160506</td>\n",
       "    </tr>\n",
       "    <tr>\n",
       "      <th>MTRANS_n</th>\n",
       "      <td>0.133065</td>\n",
       "    </tr>\n",
       "    <tr>\n",
       "      <th>CALC_n</th>\n",
       "      <td>0.118377</td>\n",
       "    </tr>\n",
       "    <tr>\n",
       "      <th>NCP</th>\n",
       "      <td>0.117655</td>\n",
       "    </tr>\n",
       "    <tr>\n",
       "      <th>Age</th>\n",
       "      <td>0.101675</td>\n",
       "    </tr>\n",
       "    <tr>\n",
       "      <th>FAF</th>\n",
       "      <td>0.084916</td>\n",
       "    </tr>\n",
       "    <tr>\n",
       "      <th>CH2O</th>\n",
       "      <td>0.083243</td>\n",
       "    </tr>\n",
       "  </tbody>\n",
       "</table>\n",
       "</div>"
      ],
      "text/plain": [
       "                  importance\n",
       "feature                     \n",
       "family_history_n    0.200564\n",
       "CAEC_n              0.160506\n",
       "MTRANS_n            0.133065\n",
       "CALC_n              0.118377\n",
       "NCP                 0.117655\n",
       "Age                 0.101675\n",
       "FAF                 0.084916\n",
       "CH2O                0.083243"
      ]
     },
     "execution_count": 85,
     "metadata": {},
     "output_type": "execute_result"
    }
   ],
   "source": [
    "# Get feature importances\n",
    "\n",
    "importances = model_xgb.feature_importances_\n",
    "\n",
    "# create DataFrame of feature importances\n",
    "importances = pd.DataFrame({'feature': New_X.columns, 'importance': np.abs(importances)})\n",
    "importances = importances.sort_values('importance', ascending=False).set_index('feature')\n",
    "importances\n"
   ]
  },
  {
   "cell_type": "code",
   "execution_count": 86,
   "id": "c97df162",
   "metadata": {},
   "outputs": [
    {
     "data": {
      "image/png": "[encoded data removed]",
      "text/plain": [
       "<Figure size 576x396 with 1 Axes>"
      ]
     },
     "metadata": {},
     "output_type": "display_data"
    }
   ],
   "source": [
    "# Plot feature importances\n",
    "\n",
    "# Create a horizontal bar chart\n",
    "plt.barh(importances.index, importances['importance'])\n",
    "\n",
    "# Add axis labels and title\n",
    "plt.xlabel('Importance')\n",
    "plt.ylabel('Feature')\n",
    "plt.title('Feature Importance Scores - XGB')\n",
    "\n",
    "# Show the plot\n",
    "plt.show()"
   ]
  },
  {
   "cell_type": "markdown",
   "id": "33f20371",
   "metadata": {},
   "source": [
    "According to the XGBoost model, the factors that influence the type of obesity in order of score are family history, consumption of food between meals (CAEC_n), transportation used (MTRANS), consumption of alcohol (CALC_n), number of main meals (NCP), and age\n"
   ]
  },
  {
   "cell_type": "markdown",
   "id": "0026eefe",
   "metadata": {},
   "source": [
    "### 3: K Nearest Neighbors (KNN)"
   ]
  },
  {
   "cell_type": "code",
   "execution_count": 49,
   "id": "8e0e42a1",
   "metadata": {},
   "outputs": [
    {
     "name": "stdout",
     "output_type": "stream",
     "text": [
      "Accuracy: 0.6798107255520505 \n",
      "\n",
      "Training time: 0.01 seconds\n",
      "Inference time: 0.01 seconds\n",
      "Model size: 123695.00 bytes\n"
     ]
    }
   ],
   "source": [
    "# Import library \n",
    "from sklearn.neighbors import KNeighborsClassifier\n",
    "\n",
    "# Define the hyperparameters\n",
    "k = 5\n",
    "distance_metric = 'euclidean'\n",
    "weight_func = 'distance'\n",
    "\n",
    "# Number of neighbors (K) = 5 (the number of nearest neighbors that will be considered to classify a new instance).\n",
    "# Distance metric = Euclidean distance to measure the similarity between instances. \n",
    "# Weight function = distance-weighted function to assign weights to the neighbors; give more importance to the nearest neighbors.\n",
    "\n",
    "# Initialize the KNN classifier\n",
    "model_kn = KNeighborsClassifier(n_neighbors=k, metric=distance_metric, weights=weight_func)\n",
    "\n",
    "# Start training time measurement\n",
    "start_time = time.time()\n",
    "\n",
    "# Train the model on the training data\n",
    "model_kn.fit(X_train, y_train)\n",
    "\n",
    "# End training time measurement\n",
    "end_time = time.time()\n",
    "\n",
    "# Calculate training time\n",
    "training_time_kn = end_time - start_time\n",
    "\n",
    "# Start inference time measurement\n",
    "start_time = time.time()\n",
    "\n",
    "# Make predictions on the test data\n",
    "y_pred = model_kn.predict(X_test)\n",
    "\n",
    "# End inference time measurement\n",
    "end_time = time.time()\n",
    "\n",
    "# Calculate inference time\n",
    "inference_time_kn = end_time - start_time\n",
    "\n",
    "# Calculate model size in bytes\n",
    "model_size_kn = pickle.dumps(model_kn).__sizeof__()\n",
    "\n",
    "# Evaluate the performance of the model on the testing data\n",
    "accuracy_kn = model_kn.score(X_test, y_test)\n",
    "\n",
    "print(\"Accuracy:\", accuracy_kn, \"\\n\")\n",
    "print(\"Training time: {:.2f} seconds\".format(training_time_kn))\n",
    "print(\"Inference time: {:.2f} seconds\".format(inference_time_kn))\n",
    "print(\"Model size: {:.2f} bytes\".format(model_size_kn))"
   ]
  },
  {
   "cell_type": "code",
   "execution_count": 50,
   "id": "0d72f9b4",
   "metadata": {},
   "outputs": [
    {
     "name": "stdout",
     "output_type": "stream",
     "text": [
      "Cross-validation scores: [0.71621622 0.72972973 0.71621622 0.7027027  0.67567568 0.63513514\n",
      " 0.66216216 0.66666667 0.69387755 0.68707483] \n",
      "\n",
      "Mean: 0.6885456885456886 \n",
      "\n",
      "Standard Deviation: 0.027661455481303353 \n",
      "\n",
      "Processing time: 0.12 seconds\n"
     ]
    }
   ],
   "source": [
    "# Set up KFold cross-validation\n",
    "\n",
    "start_time = time.time()\n",
    "\n",
    "kfold = KFold(n_splits=10, shuffle=True, random_state=42)\n",
    "\n",
    "# Perform 10-fold cross-validation\n",
    "kn_cv = cross_val_score(model_kn, X_train, y_train, cv=kfold)\n",
    "kn_cv\n",
    "\n",
    "end_time = time.time()\n",
    "\n",
    "# Calculate processing time\n",
    "processing_time_kn = end_time - start_time\n",
    "\n",
    "# Print the cross-validation scores, mean and standard deviation of scores, and processing time\n",
    "print(\"Cross-validation scores:\", kn_cv, \"\\n\")\n",
    "print(\"Mean:\", np.mean(kn_cv), \"\\n\")\n",
    "print(\"Standard Deviation:\", np.std(kn_cv), \"\\n\")\n",
    "print(\"Processing time: {:.2f} seconds\".format(processing_time_kn))"
   ]
  },
  {
   "cell_type": "code",
   "execution_count": 51,
   "id": "18f0825a",
   "metadata": {},
   "outputs": [
    {
     "data": {
      "image/png": "[encoded data removed]",
      "text/plain": [
       "<Figure size 576x396 with 1 Axes>"
      ]
     },
     "metadata": {},
     "output_type": "display_data"
    }
   ],
   "source": [
    "# Plot a line chart of the cross-validation scores for each fold\n",
    "fig, ax = plt.subplots()\n",
    "ax.plot(range(1,11), kn_cv, '-o')\n",
    "ax.set_xlabel('Fold')\n",
    "ax.set_ylabel('Score')\n",
    "ax.set_title('Cross-Validation Scores')\n",
    "plt.show()"
   ]
  },
  {
   "cell_type": "code",
   "execution_count": 52,
   "id": "05c62fc6",
   "metadata": {},
   "outputs": [
    {
     "name": "stdout",
     "output_type": "stream",
     "text": [
      "[[70  8  0  1  1  3  3]\n",
      " [22 29 18  4  5  6  9]\n",
      " [ 5  3 75  4  4  5  6]\n",
      " [ 1  2  2 78  4  0  1]\n",
      " [ 0  1  1  1 91  4  0]\n",
      " [ 2  9  2 10  5 52  8]\n",
      " [ 3  7 14 11  5  3 36]]\n"
     ]
    },
    {
     "data": {
      "text/plain": [
       "<sklearn.metrics._plot.confusion_matrix.ConfusionMatrixDisplay at 0x20513210e50>"
      ]
     },
     "execution_count": 52,
     "metadata": {},
     "output_type": "execute_result"
    },
    {
     "data": {
      "image/png": "[encoded data removed]",
      "text/plain": [
       "<Figure size 576x396 with 2 Axes>"
      ]
     },
     "metadata": {},
     "output_type": "display_data"
    }
   ],
   "source": [
    "# Plot confusion matrix to see the distribution of errors. \n",
    "# Use model.predict on X_test data set to get y_predicted.\n",
    "\n",
    "# Make predictions on the testing data\n",
    "y_pred = model_kn.predict(X_test)\n",
    "\n",
    "# Compute the confusion matrix\n",
    "cm = confusion_matrix(y_test, y_pred)\n",
    "print(cm)\n",
    "\n",
    "ConfusionMatrixDisplay(confusion_matrix=cm).plot()"
   ]
  },
  {
   "cell_type": "markdown",
   "id": "914291c5",
   "metadata": {},
   "source": [
    "Selected model performances interpretations:\n",
    "\n",
    "The diagonal entries (70, 29, 75, 78, 91, 52, 36) represent the number of samples that were correctly classified for each class.\n",
    "\n",
    "The cell in the top-left corner (70) represents the number of samples that truly belong to class 0 and were predicted as class 0.\n",
    "\n",
    "The cell in the second row and third column (18) represents the number of samples that truly belong to class 2 and were predicted as class 3.\n",
    "\n",
    "The cell in the fourth row and fifth column (4) represents the number of samples that truly belong to class 3 and were predicted as class 4.\n"
   ]
  },
  {
   "cell_type": "code",
   "execution_count": 53,
   "id": "c531ec7c",
   "metadata": {
    "scrolled": true
   },
   "outputs": [
    {
     "name": "stdout",
     "output_type": "stream",
     "text": [
      "              precision    recall  f1-score   support\n",
      "\n",
      "           0       0.81      0.68      0.74       103\n",
      "           1       0.31      0.49      0.38        59\n",
      "           2       0.74      0.67      0.70       112\n",
      "           3       0.89      0.72      0.79       109\n",
      "           4       0.93      0.79      0.85       115\n",
      "           5       0.59      0.71      0.65        73\n",
      "           6       0.46      0.57      0.51        63\n",
      "\n",
      "    accuracy                           0.68       634\n",
      "   macro avg       0.67      0.66      0.66       634\n",
      "weighted avg       0.73      0.68      0.70       634\n",
      "\n"
     ]
    }
   ],
   "source": [
    "# Compute classification report\n",
    "\n",
    "classification_report(y_pred, y_test)\n",
    "kn_report = (classification_report(y_pred, y_test))\n",
    "print(kn_report)"
   ]
  },
  {
   "cell_type": "markdown",
   "id": "eca003af",
   "metadata": {},
   "source": [
    "The model was trained to classify instances into one of seven categories (0-6), and this report shows the performance of the model on a test set of 634 instances.\n",
    "\n",
    "Accuracy: 68% of instances in the test set were correctly classified by the model.\n",
    "\n",
    "Precision: On average, 73% of instances classified as positive by the model are truly positive.\n",
    "\n",
    "Recall: On average, the model correctly identified 68% of true positives.\n",
    "\n",
    "F1-score: The weighted average F1-score across all classes is 70, a metric that combines precision and recall into a single score that balances both metrics."
   ]
  },
  {
   "cell_type": "code",
   "execution_count": 87,
   "id": "fc76e28e",
   "metadata": {
    "scrolled": true
   },
   "outputs": [
    {
     "data": {
      "text/html": [
       "<div>\n",
       "<style scoped>\n",
       "    .dataframe tbody tr th:only-of-type {\n",
       "        vertical-align: middle;\n",
       "    }\n",
       "\n",
       "    .dataframe tbody tr th {\n",
       "        vertical-align: top;\n",
       "    }\n",
       "\n",
       "    .dataframe thead th {\n",
       "        text-align: right;\n",
       "    }\n",
       "</style>\n",
       "<table border=\"1\" class=\"dataframe\">\n",
       "  <thead>\n",
       "    <tr style=\"text-align: right;\">\n",
       "      <th></th>\n",
       "      <th>importance</th>\n",
       "    </tr>\n",
       "    <tr>\n",
       "      <th>feature</th>\n",
       "      <th></th>\n",
       "    </tr>\n",
       "  </thead>\n",
       "  <tbody>\n",
       "    <tr>\n",
       "      <th>Age</th>\n",
       "      <td>0.685173</td>\n",
       "    </tr>\n",
       "    <tr>\n",
       "      <th>FAF</th>\n",
       "      <td>0.369397</td>\n",
       "    </tr>\n",
       "    <tr>\n",
       "      <th>MTRANS_n</th>\n",
       "      <td>0.252810</td>\n",
       "    </tr>\n",
       "    <tr>\n",
       "      <th>NCP</th>\n",
       "      <td>0.248070</td>\n",
       "    </tr>\n",
       "    <tr>\n",
       "      <th>CH2O</th>\n",
       "      <td>0.244144</td>\n",
       "    </tr>\n",
       "    <tr>\n",
       "      <th>CALC_n</th>\n",
       "      <td>0.192146</td>\n",
       "    </tr>\n",
       "    <tr>\n",
       "      <th>CAEC_n</th>\n",
       "      <td>0.110088</td>\n",
       "    </tr>\n",
       "    <tr>\n",
       "      <th>family_history_n</th>\n",
       "      <td>0.108192</td>\n",
       "    </tr>\n",
       "  </tbody>\n",
       "</table>\n",
       "</div>"
      ],
      "text/plain": [
       "                  importance\n",
       "feature                     \n",
       "Age                 0.685173\n",
       "FAF                 0.369397\n",
       "MTRANS_n            0.252810\n",
       "NCP                 0.248070\n",
       "CH2O                0.244144\n",
       "CALC_n              0.192146\n",
       "CAEC_n              0.110088\n",
       "family_history_n    0.108192"
      ]
     },
     "execution_count": 87,
     "metadata": {},
     "output_type": "execute_result"
    }
   ],
   "source": [
    "# Compute feature importances using permutation importance\n",
    "from sklearn.inspection import permutation_importance\n",
    "\n",
    "# get feature importances using permutation importance\n",
    "importances = permutation_importance(model_kn, X_train, y_train)['importances_mean']\n",
    "\n",
    "# create DataFrame of feature importances\n",
    "importances = pd.DataFrame({'feature': New_X.columns, 'importance': np.abs(importances)})\n",
    "importances = importances.sort_values('importance', ascending=False).set_index('feature')\n",
    "importances"
   ]
  },
  {
   "cell_type": "code",
   "execution_count": 88,
   "id": "9568c814",
   "metadata": {},
   "outputs": [
    {
     "data": {
      "image/png": "[encoded data removed]",
      "text/plain": [
       "<Figure size 576x396 with 1 Axes>"
      ]
     },
     "metadata": {},
     "output_type": "display_data"
    }
   ],
   "source": [
    "# Plot the sorted feature importances\n",
    "\n",
    "plt.barh(importances.index, importances['importance'])\n",
    "\n",
    "# Add axis labels and title\n",
    "plt.xlabel('Importance')\n",
    "plt.ylabel('Feature')\n",
    "plt.title ('Feature Importance Scores - KNN')\n",
    "\n",
    "# Show the plot\n",
    "plt.show()\n",
    "\n",
    "# The importance values represent the mean decrease in the model's score when a given feature is randomly shuffled."
   ]
  },
  {
   "cell_type": "markdown",
   "id": "a4668eeb",
   "metadata": {},
   "source": [
    "According to the KNN model, the factors that influence the type of obesity in order of score are age, physical activity (FAF), \n",
    "number of main meals (NCP), consumption of water (CH2O), transportation used (MTRANS) and consumption of alcohol (CALC_n).\n"
   ]
  },
  {
   "cell_type": "markdown",
   "id": "b3a5888d",
   "metadata": {},
   "source": [
    "# Comparing the models"
   ]
  },
  {
   "cell_type": "markdown",
   "id": "3c061637",
   "metadata": {},
   "source": [
    "### 1 Efficiency:\n",
    "I evaluated efficiency in terms of the time and computational resources required to train and deploy the model.\n",
    "\n",
    "The following metrics are used to assess the efficiency of a model:\n",
    "\n",
    "• Training time: The time required to train the model on a given dataset.\n",
    "\n",
    "• Inference time: The time required to make predictions on new data.\n",
    "\n",
    "• Model size: The memory and storage requirements of the model.\n",
    "\n",
    "\n",
    "The records for all three models are given below: "
   ]
  },
  {
   "cell_type": "code",
   "execution_count": 56,
   "id": "615f81f2",
   "metadata": {
    "scrolled": true
   },
   "outputs": [
    {
     "name": "stdout",
     "output_type": "stream",
     "text": [
      "Training time     : Random Forest:0.16         XGBoost:0.9085        KNN:0.0080\n",
      "Inference time    : Random Forest:0.01         XGBoost:0.0120        KNN:0.0130\n",
      "Model size        : Random Forest:2306922.00   XGBoost:1326662.0000  KNN:123695.0000\n",
      "CV Processing time: Random Forest:2.11         XGBoost:10.3960       KNN:0.1219\n"
     ]
    }
   ],
   "source": [
    "# print(\"Random_Forest\", \"Accuracy: {:.4f}\".format(accuracy_rf), (\"Precision: {:.4f}\".format(precision_rf)), (\"Recall: {:.4f}\".format(recall_rf)), (\"F1 score: {:.4f}\".format(f1_rf)),(\"Cross_Validation:{:.4f}\".format(np.mean(rf_cv))))\n",
    "\n",
    "print(\"Training time     :\", \"Random Forest:{:.2f}\".format(training_time_rf)    ,  \"        XGBoost:{:.4f}\".format(training_time_xg)   ,  \"       KNN:{:.4f}\".format(training_time_kn))\n",
    "print(\"Inference time    :\", \"Random Forest:{:.2f}\".format(inference_time_rf)   ,  \"        XGBoost:{:.4f}\".format(inference_time_xg)  ,  \"       KNN:{:.4f}\".format(inference_time_kn))\n",
    "print(\"Model size        :\", \"Random Forest:{:.2f}\".format(model_size_rf)       ,  \"  XGBoost:{:.4f}\".format(model_size_xg)      ,        \" KNN:{:.4f}\".format(model_size_kn))\n",
    "print(\"CV Processing time:\", \"Random Forest:{:.2f}\".format(processing_time_rf)  ,  \"        XGBoost:{:.4f}\".format(processing_time_xg) ,  \"      KNN:{:.4f}\".format(processing_time_kn))\n"
   ]
  },
  {
   "cell_type": "code",
   "execution_count": 75,
   "id": "3c874e8a",
   "metadata": {},
   "outputs": [
    {
     "data": {
      "image/png": "[encoded data removed]",
      "text/plain": [
       "<Figure size 576x396 with 1 Axes>"
      ]
     },
     "metadata": {},
     "output_type": "display_data"
    }
   ],
   "source": [
    "import matplotlib.pyplot as plt\n",
    "import numpy as np\n",
    "\n",
    "models = ['Random Forest', 'XGBoost', 'KNN']\n",
    "training_times = [0.16, 0.9085, 0.0080]\n",
    "inference_times = [0.01, 0.0120, 0.0130]\n",
    "cv_processing_times = [2.11, 10.3960, 0.1219]\n",
    "\n",
    "# Set the width of the bars\n",
    "bar_width = 0.2\n",
    "\n",
    "# Set the position of the x-axis ticks\n",
    "r1 = np.arange(len(training_times))\n",
    "r2 = [x + bar_width for x in r1]\n",
    "r3 = [x + bar_width for x in r3]\n",
    "\n",
    "# Create the figure\n",
    "fig, ax = plt.subplots()\n",
    "\n",
    "# Create the bar charts\n",
    "rects1 = ax.bar(r1, training_times, bar_width, alpha=0.8, label='Training Time')\n",
    "rects2 = ax.bar(r2, inference_times, bar_width, alpha=0.8, label='Inference Time')\n",
    "rects3 = ax.bar(r4, cv_processing_times, bar_width, alpha=0.8, label='CV Processing Time')\n",
    "\n",
    "# Add labels, title, and legend\n",
    "ax.set_xticks([r + bar_width for r in range(len(models))])\n",
    "ax.set_xticklabels(models)\n",
    "ax.set_ylabel('Time (seconds) / Size')\n",
    "ax.set_title('Efficiency of Models')\n",
    "ax.legend()\n",
    "\n",
    "# Show the plot\n",
    "plt.show()\n"
   ]
  },
  {
   "cell_type": "code",
   "execution_count": 76,
   "id": "23853c86",
   "metadata": {},
   "outputs": [
    {
     "data": {
      "image/png": "[encoded data removed]",
      "text/plain": [
       "<Figure size 576x432 with 1 Axes>"
      ]
     },
     "metadata": {},
     "output_type": "display_data"
    }
   ],
   "source": [
    "import matplotlib.pyplot as plt\n",
    "\n",
    "models = ['Random Forest', 'XGBoost', 'KNN']\n",
    "model_sizes = [2306922.00, 1326662.0000, 123695.0000]\n",
    "\n",
    "fig, ax = plt.subplots(figsize=(8, 6))\n",
    "\n",
    "ax.bar(models, model_sizes, width=0.4)\n",
    "ax.set_ylabel('Model Size')\n",
    "ax.set_xlabel('Models')\n",
    "ax.set_title('Model Sizes of the Three Models')\n",
    "plt.show()\n"
   ]
  },
  {
   "cell_type": "markdown",
   "id": "e18c65c5",
   "metadata": {},
   "source": [
    "Choosing the best model would depend on the specific requirements of the application and the trade-offs between various factors such as training time, inference time, model size, and processing time. \n",
    "\n",
    "From the calculations, if training time is a critical factor, then Random Forest might be the best choice since it has the shortest training. On the other hand, if inference time is more important, then XGBoost could be the best option as it has the lowest inference time. But, if processing time is also a consideration, KNN might be the best choice, as it has the lowest CV processing time.\n",
    "\n",
    "However, if the model size is also a concern, KNN might be the better choice since it has the smallest model size.\n",
    "\n",
    "It's important to note that the best model will depend on the application's specific requirements and a trade-off between these factors. Therefore, it's essential to consider all the factors before selecting the best model for a particular problem.\n"
   ]
  },
  {
   "cell_type": "markdown",
   "id": "a17b2359",
   "metadata": {},
   "source": [
    "### 2 Effectiveness \n",
    "\n",
    "I measured the effectiveness of a machine learning model in terms of its predictive accuracy and performance. The following metrics is used to assess the effectiveness of a model:\n",
    "\n",
    "1.\tAccuracy: The percentage of correct predictions made by the model. It measures the model performance in terms of measuring the ratio of sum of true positive and true negatives out of all the predictions made.\n",
    "\n",
    "\n",
    "2.\tPrecision: measures how many of the “positive” predictions made by the model were correct.\n",
    "\n",
    "\n",
    "3.\tRecall: measures how many of the positive class samples present in the dataset were correctly identified by the model \n",
    "\n",
    "\n",
    "4.\tF1 score: harmonic mean of precision and recall score and is used as a metrics in the scenarios where choosing either of precision or recall score can result in compromise in terms of model giving high false positives and false negatives respectively.\n",
    "\n",
    "\n"
   ]
  },
  {
   "cell_type": "code",
   "execution_count": 60,
   "id": "e7de5ceb",
   "metadata": {
    "scrolled": false
   },
   "outputs": [
    {
     "name": "stdout",
     "output_type": "stream",
     "text": [
      "Random Forest:\n",
      "               precision    recall  f1-score   support\n",
      "\n",
      "           0       0.84      0.81      0.82        89\n",
      "           1       0.63      0.60      0.61        99\n",
      "           2       0.72      0.63      0.67       115\n",
      "           3       0.90      0.83      0.86        95\n",
      "           4       0.99      0.78      0.87       125\n",
      "           5       0.47      0.67      0.55        61\n",
      "           6       0.46      0.72      0.56        50\n",
      "\n",
      "    accuracy                           0.72       634\n",
      "   macro avg       0.71      0.72      0.71       634\n",
      "weighted avg       0.76      0.72      0.73       634\n",
      " \n",
      "XGBoost:\n",
      "               precision    recall  f1-score   support\n",
      "\n",
      "           0       0.85      0.81      0.83        90\n",
      "           1       0.70      0.61      0.65       106\n",
      "           2       0.73      0.71      0.72       104\n",
      "           3       0.84      0.85      0.85        87\n",
      "           4       0.97      0.91      0.94       104\n",
      "           5       0.60      0.70      0.65        76\n",
      "           6       0.56      0.66      0.60        67\n",
      "\n",
      "    accuracy                           0.75       634\n",
      "   macro avg       0.75      0.75      0.75       634\n",
      "weighted avg       0.76      0.75      0.76       634\n",
      " \n",
      "KNN:\n",
      "               precision    recall  f1-score   support\n",
      "\n",
      "           0       0.81      0.68      0.74       103\n",
      "           1       0.31      0.49      0.38        59\n",
      "           2       0.74      0.67      0.70       112\n",
      "           3       0.89      0.72      0.79       109\n",
      "           4       0.93      0.79      0.85       115\n",
      "           5       0.59      0.71      0.65        73\n",
      "           6       0.46      0.57      0.51        63\n",
      "\n",
      "    accuracy                           0.68       634\n",
      "   macro avg       0.67      0.66      0.66       634\n",
      "weighted avg       0.73      0.68      0.70       634\n",
      "\n"
     ]
    }
   ],
   "source": [
    "# Get the classification reports\n",
    "\n",
    "print(\"Random Forest:\\n\", rf_report, \"\\nXGBoost:\\n\", xg_report, \"\\nKNN:\\n\", kn_report)"
   ]
  },
  {
   "cell_type": "markdown",
   "id": "c2d73412",
   "metadata": {},
   "source": [
    "Accuracy is a standard metric for evaluating the performance of a classification model. It represents the proportion of correctly classified instances out of the total number of instances. However, accuracy alone is not always the best metric for evaluating the performance of a model, especially when the classes are imbalanced. In such cases, other metrics such as precision, recall, and F1-score may be more appropriate.\n",
    "\n",
    "If we look at the following classification reports, we can see that XGBoost has the highest overall accuracy score of 75%. In comparison, Random Forest has an accuracy of 72%, and KNN has an accuracy of 68%. But accuracy alone may not be enough to determine which model is better, as different models may perform differently for other classes.\n",
    "\n",
    "If we look at precision and recall in different classes, it appears that XGBoost has the highest scores on classes 0, 3, and 4, which are the most accurately predicted classes by all three classifiers. On the other hand, the third classifier, KNN, has the lowest accuracy and F1-score and performs worst in classes 1 and 6.\n",
    "\n",
    "If we look at the weighted scores, we can see that the second model (XGBoost) has the highest accuracy of 0.75, precision of 0.76 and recall of 0.75, followed by the first model (Random Forest) with an accuracy of 0.72, and the third model (K-Nearest Neighbors) has the lowest accuracy of 0.68. However, considering other metrics and factors, such as the problem domain and the specific use case, is important before deciding on the best model.\n"
   ]
  },
  {
   "cell_type": "markdown",
   "id": "ea35cf50",
   "metadata": {},
   "source": [
    "### 3 Stability \n",
    "The stability of a machine learning model refers to its consistency and robustness over time and across different datasets. In this case I used Cross-validation to assess the stability of a model. It is a technique for evaluating the performance of a model on multiple subsets of the data to check its consistency and generalization ability."
   ]
  },
  {
   "cell_type": "code",
   "execution_count": 61,
   "id": "fe7cc957",
   "metadata": {},
   "outputs": [
    {
     "name": "stdout",
     "output_type": "stream",
     "text": [
      "Cross Validation\n",
      "Random Forest    : CV-Mean 0.753201287668783   Accuracy 0.7208201892744479 \n",
      "\n",
      "XGBoost          : CV-Mean 0.7868393990879012   Accuracy 0.7539432176656151 \n",
      "\n",
      "KNearestNeighbor : CV-Mea  0.6885456885456886   Accuracy 0.6798107255520505 \n",
      "\n"
     ]
    }
   ],
   "source": [
    "print(\"Cross Validation\")\n",
    "print(\"Random Forest    : CV-Mean\", np.mean(rf_cv), \"  Accuracy\", accuracy_rf, \"\\n\")\n",
    "print(\"XGBoost          : CV-Mean\", np.mean(xg_cv), \"  Accuracy\", accuracy_xg, \"\\n\")\n",
    "print(\"KNearestNeighbor : CV-Mea \", np.mean(kn_cv), \"  Accuracy\", accuracy_kn, \"\\n\")"
   ]
  },
  {
   "cell_type": "code",
   "execution_count": 62,
   "id": "baa2189f",
   "metadata": {},
   "outputs": [
    {
     "data": {
      "image/png": "[encoded data removed]",
      "text/plain": [
       "<Figure size 720x432 with 1 Axes>"
      ]
     },
     "metadata": {},
     "output_type": "display_data"
    }
   ],
   "source": [
    "import matplotlib.pyplot as plt\n",
    "\n",
    "# Data\n",
    "models = ['Random Forest', 'XGBoost', 'KNearestNeighbor']\n",
    "cv_means = [0.753201287668783, 0.7868393990879012, 0.6885456885456886]\n",
    "accuracies = [0.7208201892744479, 0.7539432176656151, 0.6798107255520505]\n",
    "\n",
    "# Plotting\n",
    "fig, ax = plt.subplots(figsize=(10, 6))\n",
    "\n",
    "ax.bar(models, cv_means, label='Cross-validation mean')\n",
    "ax.bar(models, accuracies, label='Accuracy')\n",
    "\n",
    "ax.set_xlabel('Models')\n",
    "ax.set_ylabel('Scores')\n",
    "ax.set_title('Comparison of Models')\n",
    "ax.legend()\n",
    "\n",
    "plt.show()\n"
   ]
  },
  {
   "cell_type": "markdown",
   "id": "f38b6165",
   "metadata": {},
   "source": [
    "I performed cross-validation for each of the three models, and the reported accuracy scores are the mean accuracy across all folds. The higher the accuracy score, the better the model performs on the dataset.\n",
    "\n",
    "The CV-mean for Random Forest is 0.7532, which means that, on average, the model correctly classified 75.32% of the samples in the dataset. Therefore, the accuracy score reported for Random Forest is 0.7208, which is the accuracy score of the model on the test set.\n",
    "\n",
    "Similarly, the CV-mean for XGBoost is 0.7868, which means that, on average, the model correctly classified 78.68% of the samples in the dataset. The accuracy score reported for XGBoost is 0.7539, which is the accuracy score of the model on the test set.\n",
    "\n",
    "Finally, the CV-mean for KNearestNeighbor is 0.6885, which means that, on average, the model correctly classified 68.85% of the samples in the dataset. Furthermore, the accuracy score reported for KNearestNeighbor is 0.6798, which is the accuracy score of the model on the test set. These results show that XGBoost has the highest CV-mean and test accuracy score, indicating that it is the best model among the three for this dataset.\n"
   ]
  },
  {
   "cell_type": "markdown",
   "id": "2198dcc2",
   "metadata": {},
   "source": [
    "### Conclusion\n",
    "Based on the classification report and the time reports, both Random Forest and XGBoost perform well in accuracy, precision, recall, F1 score, cross-validation, inference time, and model size. \n",
    "\n",
    "However, Random Forest has an advantage in terms of training time, while XGBoost has an advantage in terms of cv- processing time.\n",
    "\n",
    "K-Nearest Neighbors (KNN) performed well in training time, CV processing time, and model size, but its performance was not reported in accuracy, precision, recall, and F1 score.\n",
    "\n",
    "Overall, Random Forest and XGBoost seem to be good choices for classification problems, depending on the project's specific needs.\n",
    "\n",
    "The important features calculated in XG Boost are family history, consumption of food between meals (CAEC_n), transportation used (MTRANS), consumption of alcohol (CALC_n), number of main meals (NCP), and age that influence obesity.\n",
    "\n"
   ]
  }
 ],
 "metadata": {
  "kernelspec": {
   "display_name": "Python 3 (ipykernel)",
   "language": "python",
   "name": "python3"
  },
  "language_info": {
   "codemirror_mode": {
    "name": "ipython",
    "version": 3
   },
   "file_extension": ".py",
   "mimetype": "text/x-python",
   "name": "python",
   "nbconvert_exporter": "python",
   "pygments_lexer": "ipython3",
   "version": "3.9.7"
  }
 },
 "nbformat": 4,
 "nbformat_minor": 5
}
